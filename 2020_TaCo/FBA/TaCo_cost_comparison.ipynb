{
 "cells": [
  {
   "cell_type": "code",
   "execution_count": 1,
   "metadata": {
    "tags": []
   },
   "outputs": [
    {
     "output_type": "stream",
     "name": "stdout",
     "text": "Python version: 3.7.3 (default, Mar 27 2019, 17:13:21) [MSC v.1915 64 bit (AMD64)]\nnumpy version: 1.16.4\npandas version: 1.0.3\ncobrapy version: 0.15.4\n"
    }
   ],
   "source": [
    "# -*- coding: utf-8 -*-\n",
    "import sys\n",
    "import os\n",
    "import numpy as np\n",
    "import pandas as pd\n",
    "import cobra\n",
    "\n",
    "print('Python version:', sys.version)\n",
    "print('numpy version:', np.__version__)\n",
    "print('pandas version:', pd.__version__)\n",
    "print('cobrapy version:', cobra.__version__)"
   ]
  },
  {
   "cell_type": "code",
   "execution_count": 2,
   "metadata": {},
   "outputs": [],
   "source": [
    "def AddRxn(model, newRxnFile):\n",
    "    \"\"\"Function of adding new reactions to the model.\"\"\"\n",
    "    n1 = len(model.reactions)\n",
    "    AllAddRxn = pd.read_csv(newRxnFile, sep=',', index_col='RxnID', skipinitialspace=True)\n",
    "    n2 = len(AllAddRxn)\n",
    "    for i in range(n2):\n",
    "        ID = AllAddRxn.index.values[i]\n",
    "        addRxn = cobra.Reaction(ID)\n",
    "        model.add_reactions([addRxn])\n",
    "        addRxnInf = model.reactions[n1 + i]\n",
    "        addRxnInf.name = AllAddRxn.loc[ID, 'RxnName']\n",
    "        addRxnInf.reaction = AllAddRxn.loc[ID, 'RxnFormula']\n",
    "        addRxnInf.subsystem = AllAddRxn.loc[ID, 'Subsystem']\n",
    "        addRxnInf.lower_bound = AllAddRxn.loc[ID, 'LowerBound']\n",
    "        addRxnInf.upper_bound = AllAddRxn.loc[ID, 'UpperBound']\n",
    "    return model\n"
   ]
  },
  {
   "cell_type": "code",
   "execution_count": 3,
   "metadata": {},
   "outputs": [],
   "source": [
    "def flux2file(model, product, psw, output_dir='tmp'):\n",
    "    \"\"\"Function of exporting flux data.\"\"\"\n",
    "    n = len(model.reactions)\n",
    "    modelMatrix = np.empty([n, 9], dtype = object)\n",
    "    for i in range(len(model.reactions)):\n",
    "        x = model.reactions[i]\n",
    "        modelMatrix[i, 0] = i + 1\n",
    "        modelMatrix[i, 1] = x.id\n",
    "        modelMatrix[i, 2] = x.name\n",
    "        modelMatrix[i, 3] = x.reaction\n",
    "        modelMatrix[i, 4] = x.subsystem\n",
    "        modelMatrix[i, 5] = x.lower_bound\n",
    "        modelMatrix[i, 6] = x.upper_bound\n",
    "        modelMatrix[i, 7] = x.flux\n",
    "        modelMatrix[i, 8] = abs(x.flux)\n",
    "        \n",
    "    df = pd.DataFrame(data = modelMatrix, \n",
    "                        columns = ['N', 'RxnID', 'RxnName', 'Reaction', 'SubSystem', \n",
    "                        'LowerBound', 'UpperBound', 'Flux-core', 'abs(Flux)'])\n",
    "    if not os.path.exists(output_dir):\n",
    "        os.mkdir(output_dir)\n",
    "    filepath = os.path.join(output_dir, '{}_{}.xlsx'.format(product, psw))\n",
    "    df.to_excel(filepath, index=False)\n",
    "    "
   ]
  },
  {
   "cell_type": "code",
   "execution_count": 4,
   "metadata": {
    "tags": []
   },
   "outputs": [
    {
     "output_type": "stream",
     "name": "stdout",
     "text": "unknown metabolite 'co2' created\nunknown metabolite 'h2o' created\nunknown metabolite 'rb15bp' created\nunknown metabolite '3pg' created\nunknown metabolite 'h' created\nunknown metabolite 'o2' created\nunknown metabolite '2pglyc' created\nunknown metabolite 'atp' created\nunknown metabolite '13dpg' created\nunknown metabolite 'adp' created\nunknown metabolite 'nadph' created\nunknown metabolite 'g3p' created\nunknown metabolite 'nadp' created\nunknown metabolite 'pi' created\nunknown metabolite 'dhap' created\nunknown metabolite 'fdp' created\nunknown metabolite 'f6p' created\nunknown metabolite 'e4p' created\nunknown metabolite 'xu5p' created\nunknown metabolite 's17bp' created\nunknown metabolite 's7p' created\nunknown metabolite 'r5p' created\nunknown metabolite 'ru5p' created\nunknown metabolite 'amp' created\nunknown metabolite 'nad' created\nunknown metabolite 'nadh' created\nunknown metabolite 'fdxo' created\nunknown metabolite 'fdxrd' created\nunknown metabolite 'ppi' created\nunknown metabolite 'hco3' created\nunknown metabolite 'nh3' created\n"
    }
   ],
   "source": [
    "model = cobra.Model()\n",
    "\n",
    "AddRxn(model,'CBBrxns.csv')\n",
    "\n",
    "# the model has a constraint of producing 1 of 3pg (sink_3pg)\n",
    "# set the objective to minimize ATP cost\n",
    "model.objective = {model.reactions.DM_atp: 1}\n",
    "model.objective_direction = 'min'\n",
    "\n",
    "# set the carboxylation and oxygenation reaction ratio \n",
    "# of RuBisCO to be 3:1\n",
    "rubisco_flux = model.problem.Constraint(\n",
    "    model.reactions.RBPC.flux_expression - 3 * model.reactions.RBPO.flux_expression,\n",
    "    lb = 0, \n",
    "    ub = 0\n",
    ")\n",
    "model.add_cons_vars(rubisco_flux)"
   ]
  },
  {
   "cell_type": "code",
   "execution_count": 5,
   "metadata": {},
   "outputs": [],
   "source": [
    "photores = {\n",
    "    'NPR': 'a_NPRrxns.csv',    # natural photorespiration\n",
    "    'GLC': 'b_GLCrxns.csv',    # glycerate bypass\n",
    "    'OX': 'c_OXrxns.csv',      # glycolate oxidation pathway\n",
    "    'A5P': 'd_A5Prxns.csv',    # arabinose-5-phosphate shunt\n",
    "    '3OHP': 'e_3OHPrxns.csv',  # 3-hydroxypropionate bypass\n",
    "    'TACO': 'f_TACOrxns.csv',  # tartronyl-CoA pathway\n",
    "}\n",
    "\n",
    "cost_df = pd.DataFrame()"
   ]
  },
  {
   "cell_type": "code",
   "execution_count": 6,
   "metadata": {
    "tags": []
   },
   "outputs": [
    {
     "output_type": "stream",
     "name": "stdout",
     "text": "unknown metabolite 'glyclt' created\nunknown metabolite 'glx' created\nunknown metabolite 'h2o2' created\nunknown metabolite 'ser' created\nunknown metabolite 'gly' created\nunknown metabolite 'hpyr' created\nunknown metabolite 'glu' created\nunknown metabolite 'akg' created\nunknown metabolite 'gln' created\nunknown metabolite 'mlthf' created\nunknown metabolite 'thf' created\nunknown metabolite 'glyc' created\nunknown metabolite 'glyclt' created\nunknown metabolite 'glx' created\nunknown metabolite '2h3oppan' created\nunknown metabolite 'glyc' created\nunknown metabolite 'glyclt' created\nunknown metabolite 'glx' created\nunknown metabolite 'h2o2' created\nunknown metabolite 'accoa' created\nunknown metabolite 'mal' created\nunknown metabolite 'coa' created\nunknown metabolite 'pyr' created\nunknown metabolite 'glyclt' created\nunknown metabolite 'coa' created\nunknown metabolite 'glyccoa' created\nunknown metabolite 'gcald' created\nunknown metabolite 'ara5p' created\nunknown metabolite 'glyclt' created\nunknown metabolite 'glx' created\nunknown metabolite 'ppcoa' created\nunknown metabolite 'mmcoa' created\nunknown metabolite 'citmcoa' created\nunknown metabolite 'pyr' created\nunknown metabolite 'accoa' created\nunknown metabolite 'malcoa' created\nunknown metabolite '3hpp' created\nunknown metabolite 'coa' created\nunknown metabolite 'pep' created\nunknown metabolite '2pg' created\nunknown metabolite 'glyclt' created\nunknown metabolite 'coa' created\nunknown metabolite 'glyccoa' created\nunknown metabolite 'tarcoa' created\nunknown metabolite '2h3oppan' created\nunknown metabolite 'glyc' created\n"
    }
   ],
   "source": [
    "for psw, rxns in photores.items():\n",
    "    with model as m:\n",
    "        AddRxn(m, rxns)\n",
    "        m.optimize()\n",
    "        flux2file(m,'3pg',psw,'output')\n",
    "        for cost in ['DM_atp', 'DM_e', 'Fdr', 'EX_co2', 'RBPC', 'RBPO']:\n",
    "            cost_df.loc[cost, psw] = abs(m.reactions.get_by_id(cost).flux)\n",
    "    "
   ]
  },
  {
   "cell_type": "code",
   "execution_count": 7,
   "metadata": {
    "tags": []
   },
   "outputs": [
    {
     "output_type": "stream",
     "name": "stdout",
     "text": "unknown metabolite 'glyclt' created\nunknown metabolite 'coa' created\nunknown metabolite 'glyccoa' created\nunknown metabolite 'tarcoa' created\nunknown metabolite '2h3oppan' created\nunknown metabolite 'glyc' created\n"
    }
   ],
   "source": [
    "# Assuming we cannot improve the GCC hydrolysis\n",
    "# The GCC M5 hydrolyse 3.9 ATP per carboxylation (Fig. 2c)\n",
    "with model as m:\n",
    "    AddRxn(m, 'f_TACOrxns.csv')\n",
    "    m.reactions.GCC.add_metabolites({'atp': -2.9, 'adp': 2.9, 'pi': 2.9})\n",
    "    m.optimize()\n",
    "    flux2file(m,'3pg', 'TACO_2','output')\n",
    "    for cost in ['DM_atp', 'DM_e', 'Fdr', 'EX_co2', 'RBPC', 'RBPO']:\n",
    "        cost_df.loc[cost, 'TACO_2'] = abs(m.reactions.get_by_id(cost).flux)"
   ]
  },
  {
   "cell_type": "code",
   "execution_count": 8,
   "metadata": {},
   "outputs": [
    {
     "output_type": "execute_result",
     "data": {
      "text/plain": "         NPR   GLC    OX   A5P   3OHP   TACO  TACO_2\nDM_atp  14.0  13.4  32.0  12.0  11.75  11.00  13.175\nDM_e     8.0   7.4  14.0   7.0   6.50   6.50   6.500\nFdr      1.2   0.0   0.0   0.0   0.00   0.00   0.000\nEX_co2   3.0   3.0   3.0   3.0   3.00   3.00   3.000\nRBPC     3.6   3.6   9.0   3.0   2.25   2.25   2.250\nRBPO     1.2   1.2   3.0   1.0   0.75   0.75   0.750",
      "text/html": "<div>\n<style scoped>\n    .dataframe tbody tr th:only-of-type {\n        vertical-align: middle;\n    }\n\n    .dataframe tbody tr th {\n        vertical-align: top;\n    }\n\n    .dataframe thead th {\n        text-align: right;\n    }\n</style>\n<table border=\"1\" class=\"dataframe\">\n  <thead>\n    <tr style=\"text-align: right;\">\n      <th></th>\n      <th>NPR</th>\n      <th>GLC</th>\n      <th>OX</th>\n      <th>A5P</th>\n      <th>3OHP</th>\n      <th>TACO</th>\n      <th>TACO_2</th>\n    </tr>\n  </thead>\n  <tbody>\n    <tr>\n      <th>DM_atp</th>\n      <td>14.0</td>\n      <td>13.4</td>\n      <td>32.0</td>\n      <td>12.0</td>\n      <td>11.75</td>\n      <td>11.00</td>\n      <td>13.175</td>\n    </tr>\n    <tr>\n      <th>DM_e</th>\n      <td>8.0</td>\n      <td>7.4</td>\n      <td>14.0</td>\n      <td>7.0</td>\n      <td>6.50</td>\n      <td>6.50</td>\n      <td>6.500</td>\n    </tr>\n    <tr>\n      <th>Fdr</th>\n      <td>1.2</td>\n      <td>0.0</td>\n      <td>0.0</td>\n      <td>0.0</td>\n      <td>0.00</td>\n      <td>0.00</td>\n      <td>0.000</td>\n    </tr>\n    <tr>\n      <th>EX_co2</th>\n      <td>3.0</td>\n      <td>3.0</td>\n      <td>3.0</td>\n      <td>3.0</td>\n      <td>3.00</td>\n      <td>3.00</td>\n      <td>3.000</td>\n    </tr>\n    <tr>\n      <th>RBPC</th>\n      <td>3.6</td>\n      <td>3.6</td>\n      <td>9.0</td>\n      <td>3.0</td>\n      <td>2.25</td>\n      <td>2.25</td>\n      <td>2.250</td>\n    </tr>\n    <tr>\n      <th>RBPO</th>\n      <td>1.2</td>\n      <td>1.2</td>\n      <td>3.0</td>\n      <td>1.0</td>\n      <td>0.75</td>\n      <td>0.75</td>\n      <td>0.750</td>\n    </tr>\n  </tbody>\n</table>\n</div>"
     },
     "metadata": {},
     "execution_count": 8
    }
   ],
   "source": [
    "cost_df.to_excel('TaCo costs comparison.xlsx')\n",
    "cost_df"
   ]
  },
  {
   "cell_type": "code",
   "execution_count": null,
   "metadata": {},
   "outputs": [],
   "source": []
  }
 ],
 "metadata": {
  "file_extension": ".py",
  "kernelspec": {
   "display_name": "Python 3",
   "language": "python",
   "name": "python3"
  },
  "language_info": {
   "codemirror_mode": {
    "name": "ipython",
    "version": 3
   },
   "file_extension": ".py",
   "mimetype": "text/x-python",
   "name": "python",
   "nbconvert_exporter": "python",
   "pygments_lexer": "ipython3",
   "version": "3.7.3-final"
  },
  "mimetype": "text/x-python",
  "name": "python",
  "npconvert_exporter": "python",
  "pygments_lexer": "ipython3",
  "version": 3
 },
 "nbformat": 4,
 "nbformat_minor": 2
}