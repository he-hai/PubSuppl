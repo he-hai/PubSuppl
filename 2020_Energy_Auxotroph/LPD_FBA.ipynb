{
 "cells": [
  {
   "cell_type": "code",
   "execution_count": 1,
   "metadata": {
    "tags": []
   },
   "outputs": [
    {
     "output_type": "stream",
     "name": "stdout",
     "text": "Python version: 3.7.7 (default, Apr 15 2020, 05:09:04) [MSC v.1916 64 bit (AMD64)]\nnumpy version: 1.18.3\npandas version: 1.0.3\ncobrapy version: 0.15.4\n"
    }
   ],
   "source": [
    "# -*- coding: utf-8 -*-\n",
    "import sys\n",
    "import os\n",
    "import numpy as np\n",
    "import pandas as pd\n",
    "import cobra\n",
    "import matplotlib.pyplot as plt \n",
    "plt.rc('axes', axisbelow=True)\n",
    "\n",
    "print('Python version:', sys.version)\n",
    "print('numpy version:', np.__version__)\n",
    "print('pandas version:', pd.__version__)\n",
    "print('cobrapy version:', cobra.__version__)"
   ]
  },
  {
   "cell_type": "code",
   "execution_count": 2,
   "metadata": {},
   "outputs": [],
   "source": [
    "def KORxn(model, rxns2KO):\n",
    "    \"\"\"Function for knocking out reactions.\"\"\"\n",
    "    for ID in rxns2KO:\n",
    "        reaction = model.reactions.get_by_id(ID)\n",
    "        reaction.knock_out()\n"
   ]
  },
  {
   "cell_type": "code",
   "execution_count": 3,
   "metadata": {},
   "outputs": [],
   "source": [
    "def flux2file(model, product, psw, output_dir='tmp'):\n",
    "    \"\"\"Function of exporting flux data.\"\"\"\n",
    "    n = len(model.reactions)\n",
    "    modelMatrix = np.empty([n, 9], dtype = object)\n",
    "    for i in range(len(model.reactions)):\n",
    "        x = model.reactions[i]\n",
    "        modelMatrix[i, 0] = i + 1\n",
    "        modelMatrix[i, 1] = x.id\n",
    "        modelMatrix[i, 2] = x.name\n",
    "        modelMatrix[i, 3] = x.reaction\n",
    "        modelMatrix[i, 4] = x.subsystem\n",
    "        modelMatrix[i, 5] = x.lower_bound\n",
    "        modelMatrix[i, 6] = x.upper_bound\n",
    "        modelMatrix[i, 7] = x.flux\n",
    "        modelMatrix[i, 8] = abs(x.flux)\n",
    "        \n",
    "    df = pd.DataFrame(data = modelMatrix, \n",
    "                        columns = ['N', 'RxnID', 'RxnName', 'Reaction', 'SubSystem', \n",
    "                        'LowerBound', 'UpperBound', 'Flux-core', 'abs(Flux)'])\n",
    "    if not os.path.exists(output_dir):\n",
    "        os.mkdir(output_dir)\n",
    "    filepath = os.path.join(output_dir, '{}_{}.xlsx'.format(product, psw))\n",
    "    df.to_excel(filepath, index=False)\n",
    "    "
   ]
  },
  {
   "cell_type": "markdown",
   "metadata": {},
   "source": [
    "#### _E. coli_ core model with some changes:\t\n",
    "\n",
    "* Corrected the transhydrogenase (THD2) to one proton translocation;\n",
    "* Deactivated pyruvate formate lyase (PFL) under aerobic coditions."
   ]
  },
  {
   "cell_type": "code",
   "execution_count": 4,
   "metadata": {},
   "outputs": [],
   "source": [
    "model = cobra.io.load_json_model(r'..\\0_ecoli_models\\e_coli_core.json')\n",
    "\n",
    "model.reactions.THD2.subtract_metabolites({\"h_e\": -1, \"h_c\": 1})"
   ]
  },
  {
   "cell_type": "code",
   "execution_count": 5,
   "metadata": {},
   "outputs": [],
   "source": [
    "KORxn_base = ['PFL']\n",
    "KORxn(model, KORxn_base)"
   ]
  },
  {
   "cell_type": "code",
   "execution_count": 6,
   "metadata": {},
   "outputs": [],
   "source": [
    "model.reactions.EX_glc__D_e.bounds = (0,0)\n",
    "\n",
    "model_wt = model.copy()"
   ]
  },
  {
   "cell_type": "markdown",
   "metadata": {},
   "source": [
    "### Model curations: \n",
    "Anticipated results of a model knocked out the _lpd_ gene:  \n",
    "* no growth on acetate only;  \n",
    "* grow on acetate + formate (with formate dehydrogenase), and where formate serves only as electron source"
   ]
  },
  {
   "cell_type": "code",
   "execution_count": 7,
   "metadata": {},
   "outputs": [],
   "source": [
    "# knock out lpdA\n",
    "model.genes.b0116.knock_out()"
   ]
  },
  {
   "cell_type": "code",
   "execution_count": 8,
   "metadata": {
    "tags": []
   },
   "outputs": [
    {
     "output_type": "stream",
     "name": "stdout",
     "text": "IN FLUXES      OUT FLUXES    OBJECTIVES\n-------------  ------------  ----------------------\no2_e   15      h2o_e  15.9   BIOMASS_Ecol...  0.115\nac_e   10      co2_e  15.1\nh_e     7.69\nnh4_e   0.627\npi_e    0.423\n"
    }
   ],
   "source": [
    "# on acetate only\n",
    "with model as m: \n",
    "    m.reactions.EX_ac_e.lower_bound = -10  # arbitrary \n",
    "    cobra.flux_analysis.pfba(m)\n",
    "    m.summary()\n",
    "    flux2file(m,'biomass_1','lpd_core')\n"
   ]
  },
  {
   "cell_type": "markdown",
   "metadata": {},
   "source": [
    "The model uses the oxidative pentose phosphate pathway generating NADPH, \n",
    "which is then used by NAD transhydrogenase (NADTRHD, sthA) transferring the electrons.  \n",
    "\n",
    "Try to block it by KO GND."
   ]
  },
  {
   "cell_type": "code",
   "execution_count": 9,
   "metadata": {
    "tags": []
   },
   "outputs": [
    {
     "output_type": "stream",
     "name": "stdout",
     "text": "IN FLUXES      OUT FLUXES    OBJECTIVES\n-------------  ------------  ----------------------\no2_e   12.4    h2o_e  13.9   BIOMASS_Ecol...  0.173\nac_e   10      co2_e  12.6\nh_e     6.52\nnh4_e   0.945\npi_e    0.638\n\n * - * - *\nIN FLUXES      OUT FLUXES    OBJECTIVES\n-------------  ------------  ----------------------\no2_e   12.4    h2o_e  13.9   BIOMASS_Ecol...  0.173\nac_e   10      co2_e  12.6\nh_e     6.52\nnh4_e   0.945\npi_e    0.638\n"
    }
   ],
   "source": [
    "with model_wt as m:\n",
    "    m.reactions.EX_ac_e.lower_bound = -10  \n",
    "    cobra.flux_analysis.pfba(m)\n",
    "    m.summary()\n",
    "    \n",
    "    print('\\n','* - * - *')\n",
    "    m.reactions.GND.knock_out()\n",
    "    cobra.flux_analysis.pfba(m)\n",
    "    m.summary()"
   ]
  },
  {
   "cell_type": "code",
   "execution_count": 10,
   "metadata": {},
   "outputs": [
    {
     "output_type": "error",
     "ename": "Infeasible",
     "evalue": "None (infeasible)",
     "traceback": [
      "\u001b[1;31m---------------------------------------------------------------------------\u001b[0m",
      "\u001b[1;31mInfeasible\u001b[0m                                Traceback (most recent call last)",
      "\u001b[1;32m<ipython-input-10-b4d358762625>\u001b[0m in \u001b[0;36m<module>\u001b[1;34m\u001b[0m\n\u001b[0;32m      3\u001b[0m     \u001b[0mm\u001b[0m\u001b[1;33m.\u001b[0m\u001b[0mreactions\u001b[0m\u001b[1;33m.\u001b[0m\u001b[0mEX_ac_e\u001b[0m\u001b[1;33m.\u001b[0m\u001b[0mlower_bound\u001b[0m \u001b[1;33m=\u001b[0m \u001b[1;33m-\u001b[0m\u001b[1;36m10\u001b[0m\u001b[1;33m\u001b[0m\u001b[1;33m\u001b[0m\u001b[0m\n\u001b[0;32m      4\u001b[0m     \u001b[0mKORxn\u001b[0m\u001b[1;33m(\u001b[0m\u001b[0mm\u001b[0m\u001b[1;33m,\u001b[0m \u001b[1;33m[\u001b[0m\u001b[1;34m'GND'\u001b[0m\u001b[1;33m]\u001b[0m\u001b[1;33m)\u001b[0m\u001b[1;33m\u001b[0m\u001b[1;33m\u001b[0m\u001b[0m\n\u001b[1;32m----> 5\u001b[1;33m     \u001b[0mcobra\u001b[0m\u001b[1;33m.\u001b[0m\u001b[0mflux_analysis\u001b[0m\u001b[1;33m.\u001b[0m\u001b[0mpfba\u001b[0m\u001b[1;33m(\u001b[0m\u001b[0mm\u001b[0m\u001b[1;33m)\u001b[0m\u001b[1;33m\u001b[0m\u001b[1;33m\u001b[0m\u001b[0m\n\u001b[0m\u001b[0;32m      6\u001b[0m     \u001b[0mm\u001b[0m\u001b[1;33m.\u001b[0m\u001b[0msummary\u001b[0m\u001b[1;33m(\u001b[0m\u001b[1;33m)\u001b[0m\u001b[1;33m\u001b[0m\u001b[1;33m\u001b[0m\u001b[0m\n\u001b[0;32m      7\u001b[0m     \u001b[0mflux2file\u001b[0m\u001b[1;33m(\u001b[0m\u001b[0mm\u001b[0m\u001b[1;33m,\u001b[0m\u001b[1;34m'biomass_2'\u001b[0m\u001b[1;33m,\u001b[0m\u001b[1;34m'lpd_core'\u001b[0m\u001b[1;33m)\u001b[0m\u001b[1;33m\u001b[0m\u001b[1;33m\u001b[0m\u001b[0m\n",
      "\u001b[1;32mC:\\MPIMP-Programs\\Anaconda\\Metabo\\lib\\site-packages\\cobra\\flux_analysis\\parsimonious.py\u001b[0m in \u001b[0;36mpfba\u001b[1;34m(model, fraction_of_optimum, objective, reactions)\u001b[0m\n\u001b[0;32m     66\u001b[0m     \u001b[1;32mwith\u001b[0m \u001b[0mmodel\u001b[0m \u001b[1;32mas\u001b[0m \u001b[0mm\u001b[0m\u001b[1;33m:\u001b[0m\u001b[1;33m\u001b[0m\u001b[1;33m\u001b[0m\u001b[0m\n\u001b[0;32m     67\u001b[0m         add_pfba(m, objective=objective,\n\u001b[1;32m---> 68\u001b[1;33m                  fraction_of_optimum=fraction_of_optimum)\n\u001b[0m\u001b[0;32m     69\u001b[0m         \u001b[0mm\u001b[0m\u001b[1;33m.\u001b[0m\u001b[0mslim_optimize\u001b[0m\u001b[1;33m(\u001b[0m\u001b[0merror_value\u001b[0m\u001b[1;33m=\u001b[0m\u001b[1;32mNone\u001b[0m\u001b[1;33m)\u001b[0m\u001b[1;33m\u001b[0m\u001b[1;33m\u001b[0m\u001b[0m\n\u001b[0;32m     70\u001b[0m         \u001b[0msolution\u001b[0m \u001b[1;33m=\u001b[0m \u001b[0mget_solution\u001b[0m\u001b[1;33m(\u001b[0m\u001b[0mm\u001b[0m\u001b[1;33m,\u001b[0m \u001b[0mreactions\u001b[0m\u001b[1;33m=\u001b[0m\u001b[0mreactions\u001b[0m\u001b[1;33m)\u001b[0m\u001b[1;33m\u001b[0m\u001b[1;33m\u001b[0m\u001b[0m\n",
      "\u001b[1;32mC:\\MPIMP-Programs\\Anaconda\\Metabo\\lib\\site-packages\\cobra\\flux_analysis\\parsimonious.py\u001b[0m in \u001b[0;36madd_pfba\u001b[1;34m(model, objective, fraction_of_optimum)\u001b[0m\n\u001b[0;32m     97\u001b[0m     \u001b[1;32mif\u001b[0m \u001b[0mmodel\u001b[0m\u001b[1;33m.\u001b[0m\u001b[0msolver\u001b[0m\u001b[1;33m.\u001b[0m\u001b[0mobjective\u001b[0m\u001b[1;33m.\u001b[0m\u001b[0mname\u001b[0m \u001b[1;33m==\u001b[0m \u001b[1;34m'_pfba_objective'\u001b[0m\u001b[1;33m:\u001b[0m\u001b[1;33m\u001b[0m\u001b[1;33m\u001b[0m\u001b[0m\n\u001b[0;32m     98\u001b[0m         \u001b[1;32mraise\u001b[0m \u001b[0mValueError\u001b[0m\u001b[1;33m(\u001b[0m\u001b[1;34m'The model already has a pFBA objective.'\u001b[0m\u001b[1;33m)\u001b[0m\u001b[1;33m\u001b[0m\u001b[1;33m\u001b[0m\u001b[0m\n\u001b[1;32m---> 99\u001b[1;33m     \u001b[0msutil\u001b[0m\u001b[1;33m.\u001b[0m\u001b[0mfix_objective_as_constraint\u001b[0m\u001b[1;33m(\u001b[0m\u001b[0mmodel\u001b[0m\u001b[1;33m,\u001b[0m \u001b[0mfraction\u001b[0m\u001b[1;33m=\u001b[0m\u001b[0mfraction_of_optimum\u001b[0m\u001b[1;33m)\u001b[0m\u001b[1;33m\u001b[0m\u001b[1;33m\u001b[0m\u001b[0m\n\u001b[0m\u001b[0;32m    100\u001b[0m     reaction_variables = ((rxn.forward_variable, rxn.reverse_variable)\n\u001b[0;32m    101\u001b[0m                           for rxn in model.reactions)\n",
      "\u001b[1;32mC:\\MPIMP-Programs\\Anaconda\\Metabo\\lib\\site-packages\\cobra\\util\\solver.py\u001b[0m in \u001b[0;36mfix_objective_as_constraint\u001b[1;34m(model, fraction, bound, name)\u001b[0m\n\u001b[0;32m    397\u001b[0m         \u001b[0mmodel\u001b[0m\u001b[1;33m.\u001b[0m\u001b[0msolver\u001b[0m\u001b[1;33m.\u001b[0m\u001b[0mremove\u001b[0m\u001b[1;33m(\u001b[0m\u001b[0mfix_objective_name\u001b[0m\u001b[1;33m)\u001b[0m\u001b[1;33m\u001b[0m\u001b[1;33m\u001b[0m\u001b[0m\n\u001b[0;32m    398\u001b[0m     \u001b[1;32mif\u001b[0m \u001b[0mbound\u001b[0m \u001b[1;32mis\u001b[0m \u001b[1;32mNone\u001b[0m\u001b[1;33m:\u001b[0m\u001b[1;33m\u001b[0m\u001b[1;33m\u001b[0m\u001b[0m\n\u001b[1;32m--> 399\u001b[1;33m         \u001b[0mbound\u001b[0m \u001b[1;33m=\u001b[0m \u001b[0mmodel\u001b[0m\u001b[1;33m.\u001b[0m\u001b[0mslim_optimize\u001b[0m\u001b[1;33m(\u001b[0m\u001b[0merror_value\u001b[0m\u001b[1;33m=\u001b[0m\u001b[1;32mNone\u001b[0m\u001b[1;33m)\u001b[0m \u001b[1;33m*\u001b[0m \u001b[0mfraction\u001b[0m\u001b[1;33m\u001b[0m\u001b[1;33m\u001b[0m\u001b[0m\n\u001b[0m\u001b[0;32m    400\u001b[0m     \u001b[1;32mif\u001b[0m \u001b[0mmodel\u001b[0m\u001b[1;33m.\u001b[0m\u001b[0mobjective\u001b[0m\u001b[1;33m.\u001b[0m\u001b[0mdirection\u001b[0m \u001b[1;33m==\u001b[0m \u001b[1;34m'max'\u001b[0m\u001b[1;33m:\u001b[0m\u001b[1;33m\u001b[0m\u001b[1;33m\u001b[0m\u001b[0m\n\u001b[0;32m    401\u001b[0m         \u001b[0mub\u001b[0m\u001b[1;33m,\u001b[0m \u001b[0mlb\u001b[0m \u001b[1;33m=\u001b[0m \u001b[1;32mNone\u001b[0m\u001b[1;33m,\u001b[0m \u001b[0mbound\u001b[0m\u001b[1;33m\u001b[0m\u001b[1;33m\u001b[0m\u001b[0m\n",
      "\u001b[1;32mC:\\MPIMP-Programs\\Anaconda\\Metabo\\lib\\site-packages\\cobra\\core\\model.py\u001b[0m in \u001b[0;36mslim_optimize\u001b[1;34m(self, error_value, message)\u001b[0m\n\u001b[0;32m   1051\u001b[0m             \u001b[1;32mreturn\u001b[0m \u001b[0merror_value\u001b[0m\u001b[1;33m\u001b[0m\u001b[1;33m\u001b[0m\u001b[0m\n\u001b[0;32m   1052\u001b[0m         \u001b[1;32melse\u001b[0m\u001b[1;33m:\u001b[0m\u001b[1;33m\u001b[0m\u001b[1;33m\u001b[0m\u001b[0m\n\u001b[1;32m-> 1053\u001b[1;33m             \u001b[0massert_optimal\u001b[0m\u001b[1;33m(\u001b[0m\u001b[0mself\u001b[0m\u001b[1;33m,\u001b[0m \u001b[0mmessage\u001b[0m\u001b[1;33m)\u001b[0m\u001b[1;33m\u001b[0m\u001b[1;33m\u001b[0m\u001b[0m\n\u001b[0m\u001b[0;32m   1054\u001b[0m \u001b[1;33m\u001b[0m\u001b[0m\n\u001b[0;32m   1055\u001b[0m     \u001b[1;32mdef\u001b[0m \u001b[0moptimize\u001b[0m\u001b[1;33m(\u001b[0m\u001b[0mself\u001b[0m\u001b[1;33m,\u001b[0m \u001b[0mobjective_sense\u001b[0m\u001b[1;33m=\u001b[0m\u001b[1;32mNone\u001b[0m\u001b[1;33m,\u001b[0m \u001b[0mraise_error\u001b[0m\u001b[1;33m=\u001b[0m\u001b[1;32mFalse\u001b[0m\u001b[1;33m)\u001b[0m\u001b[1;33m:\u001b[0m\u001b[1;33m\u001b[0m\u001b[1;33m\u001b[0m\u001b[0m\n",
      "\u001b[1;32mC:\\MPIMP-Programs\\Anaconda\\Metabo\\lib\\site-packages\\cobra\\util\\solver.py\u001b[0m in \u001b[0;36massert_optimal\u001b[1;34m(model, message)\u001b[0m\n\u001b[0;32m    439\u001b[0m         exception_cls = OPTLANG_TO_EXCEPTIONS_DICT.get(\n\u001b[0;32m    440\u001b[0m             status, OptimizationError)\n\u001b[1;32m--> 441\u001b[1;33m         \u001b[1;32mraise\u001b[0m \u001b[0mexception_cls\u001b[0m\u001b[1;33m(\u001b[0m\u001b[1;34m\"{} ({})\"\u001b[0m\u001b[1;33m.\u001b[0m\u001b[0mformat\u001b[0m\u001b[1;33m(\u001b[0m\u001b[0mmessage\u001b[0m\u001b[1;33m,\u001b[0m \u001b[0mstatus\u001b[0m\u001b[1;33m)\u001b[0m\u001b[1;33m)\u001b[0m\u001b[1;33m\u001b[0m\u001b[1;33m\u001b[0m\u001b[0m\n\u001b[0m\u001b[0;32m    442\u001b[0m \u001b[1;33m\u001b[0m\u001b[0m\n\u001b[0;32m    443\u001b[0m \u001b[1;33m\u001b[0m\u001b[0m\n",
      "\u001b[1;31mInfeasible\u001b[0m: None (infeasible)"
     ]
    }
   ],
   "source": [
    "# KO GND doesn't change the results on WT, so block it in the model.\n",
    "with model as m: \n",
    "    m.reactions.EX_ac_e.lower_bound = -10\n",
    "    KORxn(m, ['GND'])\n",
    "    cobra.flux_analysis.pfba(m)\n",
    "    m.summary()\n",
    "    flux2file(m,'biomass_2','lpd_core')"
   ]
  },
  {
   "cell_type": "code",
   "execution_count": 11,
   "metadata": {
    "tags": []
   },
   "outputs": [
    {
     "output_type": "stream",
     "name": "stdout",
     "text": "IN FLUXES     OUT FLUXES    OBJECTIVES\n------------  ------------  ----------------------\nh_e    37.6   h2o_e  41.6   BIOMASS_Ecol...  0.391\nfor_e  35.4   co2_e  38.8\no2_e   20.6\nac_e   10\nnh4_e   2.13\npi_e    1.44\n\n * - * - *\nPRODUCING REACTIONS -- Formate (for_c)\n--------------------------------------\n%       FLUX  RXN ID    REACTION\n----  ------  --------  --------------------------------\n100%    35.4  FORt2     for_e + h_e --> for_c + h_c\n\nCONSUMING REACTIONS -- Formate (for_c)\n--------------------------------------\n%       FLUX  RXN ID    REACTION\n----  ------  --------  --------------------------------\n100%    35.4  FDH       for_c + nad_c --> co2_c + nadh_c\n"
    }
   ],
   "source": [
    "# not growing on acetate now, try to add formate\n",
    "# adding FDH reaction to the model\n",
    "model_FDH = model.copy()\n",
    "FDH = cobra.Reaction(id=\"FDH\", name=\"formate dehydrogenase\", lower_bound=0, upper_bound=1000) \n",
    "model_FDH.add_reaction(FDH)\n",
    "FDH.add_metabolites({\"for_c\": -1, \"nad_c\": -1, \"co2_c\": 1, \"nadh_c\": 1})\n",
    "\n",
    "with model_FDH as m: \n",
    "    m.reactions.EX_ac_e.lower_bound = -10\n",
    "    m.reactions.EX_for_e.lower_bound = -100\n",
    "    KORxn(m, ['GND'])\n",
    "    cobra.flux_analysis.pfba(m)\n",
    "    m.summary()\n",
    "    flux2file(m,'biomass_for_1','lpd_core')\n",
    "    print('\\n','* - * - *')\n",
    "    m.metabolites.for_c.summary()"
   ]
  },
  {
   "cell_type": "markdown",
   "metadata": {},
   "source": [
    "The `model` now cannot use acetate as a sole carbon source.  \n",
    "Formate (with FDH) can be used as electron source. And it serves only as electron donor. \n"
   ]
  },
  {
   "cell_type": "code",
   "execution_count": 12,
   "metadata": {},
   "outputs": [],
   "source": [
    "KORxn(model_wt,['GND'])\n",
    "KORxn(model, ['GND'])\n",
    "KORxn(model_FDH,['GND'])"
   ]
  },
  {
   "cell_type": "markdown",
   "metadata": {},
   "source": [
    "### Calculating the substrate uptake rates: \n",
    "WT grown on aceate has doubling time **2.9 h**, i.e., **0.24 h<sup>-1</sup>**."
   ]
  },
  {
   "cell_type": "code",
   "execution_count": 13,
   "metadata": {
    "tags": []
   },
   "outputs": [
    {
     "output_type": "stream",
     "name": "stdout",
     "text": "growth rate is 0.24 / hr\n"
    }
   ],
   "source": [
    "DT = 2.9   # WT grow on 20 mM acetate -> DT = 2.9 h\n",
    "gr = np.log(2) / DT  \n",
    "print('growth rate is %.2f / hr' % gr)"
   ]
  },
  {
   "cell_type": "code",
   "execution_count": 14,
   "metadata": {
    "tags": []
   },
   "outputs": [
    {
     "output_type": "stream",
     "name": "stdout",
     "text": "IN FLUXES      OUT FLUXES    OBJECTIVES\n-------------  ------------  ------------\no2_e   15.6    h2o_e  17.7   EX_ac_e  13\nac_e   13      co2_e  15.9\nh_e     8.25\nnh4_e   1.3\npi_e    0.879\n"
    }
   ],
   "source": [
    "with model_wt as m:\n",
    "    m.reactions.BIOMASS_Ecoli_core_w_GAM.bounds = (gr, gr)\n",
    "    m.reactions.EX_glc__D_e.bounds = (0,0)\n",
    "    m.reactions.EX_ac_e.bounds = (-1000,0)\n",
    "    m.objective = {m.reactions.EX_ac_e: -1}\n",
    "    m.objective_direction = 'min'\n",
    "    cobra.flux_analysis.pfba(m)\n",
    "    m.summary()"
   ]
  },
  {
   "cell_type": "code",
   "execution_count": 15,
   "metadata": {
    "tags": []
   },
   "outputs": [
    {
     "output_type": "stream",
     "name": "stdout",
     "text": "IN FLUXES        OUT FLUXES    OBJECTIVES\n---------------  ------------  ----------------------\no2_e      15     h2o_e  29.7   BIOMASS_Ecol...  0.445\nac_e      13     pyr_e  21.8\nglc__D_e  10.5   h_e    17.7\nnh4_e      2.43  co2_e   4.63\npi_e       1.64\n\n The doubling time is 1.56 hr\n"
    }
   ],
   "source": [
    "# lpd on glucose + acetate\n",
    "with model as m:\n",
    "    m.reactions.EX_glc__D_e.lower_bound = -10.5\n",
    "    m.reactions.EX_ac_e.lower_bound = -13\n",
    "    cobra.flux_analysis.pfba(m)\n",
    "    m.summary()\n",
    "\n",
    "    sol = m.objective.value   # 1/hour\n",
    "\n",
    "print('\\n', 'The doubling time is %.2f hr' % (np.log(2) / sol))"
   ]
  },
  {
   "cell_type": "markdown",
   "metadata": {},
   "source": [
    "The maximum acetate uptake rate is **13.0 mmol/gCDW/h**, which is within the range of 11 - 15.5, reported in https://doi.org/10.1038/84379.   \n",
    "\n",
    "Also, on glc + Ac, the doubling time is colse to the experiment value *1.6 h* (Fig. 2). Here the glc uptake rate is set to 10.5 according to [Varma & Palsson, 1994](https://pubmed.ncbi.nlm.nih.gov/7986045/).\n",
    "\n",
    "Therefore, the model is good: _lpd_ (b0116, affecting PDH & AKGDH), GND and PFL are knocked out."
   ]
  },
  {
   "cell_type": "markdown",
   "metadata": {},
   "source": [
    "The yield can be calculated as the ratio between the growth rate and the substrate uptake/utilization rate:   \n",
    "$$\\dfrac{1/h}{mmol/gCDW/h} = \\dfrac{gCDW}{mmol} = \\dfrac{gCDW/L}{mmol/L}$$\n",
    "\n",
    "Using BionNumber [109836](https://bionumbers.hms.harvard.edu/bionumber.aspx?s=n&v=4&id=109836), one unit of OD600 _E. coli_ corresponds to a cell dry weight of _0.39 gCDW/L_, biomass yield can be converted to OD600 (increase).  \n",
    "\n",
    "**Assuming all the limiting substrates are consumed in the experiments** "
   ]
  },
  {
   "cell_type": "code",
   "execution_count": 16,
   "metadata": {
    "tags": []
   },
   "outputs": [],
   "source": [
    "OD2Y = 0.39  # gCDW/L per one unit OD600 culture"
   ]
  },
  {
   "cell_type": "markdown",
   "metadata": {},
   "source": [
    "### _$\\Delta$lpd_ growing on acetate + formate:  \n",
    "For the _$\\Delta$lpd_ strain grows on 20 mM acetate and formate:  \n",
    "\n",
    "The growth rates of the $\\Delta$_lpd_ strain on acetate and formate are lower than WT on acetate. Especially when formate concentration below 13 mM, the growth rate increased along with the formate concentration increase, this could indicate that formate uptake (rate) or formate oxidation is the limit under low concentrations.  \n",
    "\n",
    "Also, the maximum ODs are all below the WT on acetate alone. The maximum ODs increased along with the increase of formate concentration. These indicates that acetate is not the limit but formate (energy source). For the $\\Delta$_lpd_ strain on acetate and formate, formate is the major energy source, acetate serves mainly as carbon source, the strain should have higher biomass yield than WT on soly acetate, where acetate is both carbon and energy sources."
   ]
  },
  {
   "cell_type": "code",
   "execution_count": 17,
   "metadata": {
    "tags": []
   },
   "outputs": [
    {
     "output_type": "stream",
     "name": "stdout",
     "text": "IN FLUXES      OUT FLUXES    OBJECTIVES\n-------------  ------------  --------------\nh_e    17.8    h2o_e  24     EX_for_e  12.3\no2_e   14.3    co2_e  18.2\nac_e   13      pyr_e   4.8\nfor_e  12.3\nnh4_e   0.727\npi_e    0.49\n\n * - * - *\nPRODUCING REACTIONS -- Formate (for_c)\n--------------------------------------\n%       FLUX  RXN ID    REACTION\n----  ------  --------  --------------------------------\n100%    12.3  FORt2     for_e + h_e --> for_c + h_c\n\nCONSUMING REACTIONS -- Formate (for_c)\n--------------------------------------\n%       FLUX  RXN ID    REACTION\n----  ------  --------  --------------------------------\n100%    12.3  FDH       for_c + nad_c --> co2_c + nadh_c\n\n * - * - *\nPRODUCING REACTIONS -- Nicotinamide adenine dinucleotide - reduced (nadh_c)\n---------------------------------------------------------------------------\n%      FLUX  RXN ID      REACTION\n---  ------  ----------  --------------------------------------------------\n54%  12.3    FDH         for_c + nad_c --> co2_c + nadh_c\n31%   7.18   MDH         mal__L_c + nad_c <=> h_c + nadh_c + oaa_c\n13%   2.89   ME1         mal__L_c + nad_c --> co2_c + nadh_c + pyr_c\n2%    0.473  BIOMASS...  1.496 3pg_c + 3.7478 accoa_c + 59.81 atp_c + 0....\n\nCONSUMING REACTIONS -- Nicotinamide adenine dinucleotide - reduced (nadh_c)\n---------------------------------------------------------------------------\n%      FLUX  RXN ID      REACTION\n---  ------  ----------  --------------------------------------------------\n98%  22.5    NADH16      4.0 h_c + nadh_c + q8_c --> 3.0 h_e + nad_c + q...\n2%    0.354  GAPD        g3p_c + nad_c + pi_c <=> 13dpg_c + h_c + nadh_c\n"
    }
   ],
   "source": [
    "with model_FDH as m: \n",
    "    gr = np.log(2) / 5.2  # 20 mM ac + 44 mM formate, the highest growth rate\n",
    "    m.reactions.EX_ac_e.lower_bound = -13\n",
    "    m.reactions.BIOMASS_Ecoli_core_w_GAM.bounds = (gr, gr)\n",
    "    m.reactions.EX_for_e.lower_bound = -1000\n",
    "    m.objective = {m.reactions.EX_for_e: -1}\n",
    "    m.objective_direction = 'min'\n",
    "    cobra.flux_analysis.pfba(m)\n",
    "    m.summary()\n",
    "    flux2file(m,'biomass_for_3','lpd_core')\n",
    "\n",
    "    print('\\n', '* - * - *')\n",
    "    m.metabolites.for_c.summary()\n",
    "\n",
    "    print('\\n', '* - * - *')\n",
    "    m.metabolites.nadh_c.summary()"
   ]
  },
  {
   "cell_type": "markdown",
   "metadata": {},
   "source": [
    "Here acetate is still the constraint, the model uses acetate to generates electrons by secreting pyruvate. 54% comes from directly from formate, acetate contributes 46%.\n",
    "\n",
    "Therefore, block all the secretions.\n"
   ]
  },
  {
   "cell_type": "code",
   "execution_count": 18,
   "metadata": {
    "tags": []
   },
   "outputs": [
    {
     "output_type": "stream",
     "name": "stdout",
     "text": "IN FLUXES      OUT FLUXES    OBJECTIVES\n-------------  ------------  --------------\nh_e    17.2    h2o_e  18.6   EX_for_e  16.5\nfor_e  16.5    co2_e  17.6\no2_e    9.23\nac_e    3.41\nnh4_e   0.727\npi_e    0.49\n\n * - * - *\nYield is  2.1e-02 unit OD600 per mM formate\n"
    }
   ],
   "source": [
    "# Block all exchange reactions to avoid secretion\n",
    "for rxn in model_FDH.exchanges:\n",
    "    if \"C\" in rxn.check_mass_balance(): # knock out all other carbon-related transporters\n",
    "        rxn.bounds = (0, 0)\n",
    "model_FDH.reactions.EX_co2_e.bounds = (-1000, 1000)\n",
    "\n",
    "with model_FDH as m: \n",
    "    gr = np.log(2) / 5.2  # 20 mM ac + 44 mM formate, the highest growth rate\n",
    "    m.reactions.EX_ac_e.lower_bound = -13\n",
    "    m.reactions.BIOMASS_Ecoli_core_w_GAM.bounds = (gr, gr)\n",
    "    m.reactions.EX_for_e.lower_bound = -1000\n",
    "    m.objective = {m.reactions.EX_for_e: -1}\n",
    "    m.objective_direction = 'min'\n",
    "    cobra.flux_analysis.pfba(m)\n",
    "    m.summary()\n",
    "    for_up = m.objective.value\n",
    "    flux2file(m,'biomass_for_4','lpd_core')\n",
    "\n",
    "print('\\n', '* - * - *')\n",
    "print(f'Yield is {gr/for_up/OD2Y: 0.1e} unit OD600 per mM formate')"
   ]
  },
  {
   "cell_type": "markdown",
   "metadata": {},
   "source": [
    "Now, formate is the limiting as shown in the experimental results.  \n",
    "\n",
    "Here acetate uptake rate is _3.41 mmol/gCDW/h_, (the maximum) formate uptake rate (or FDH) is calculated to be **16.5 mmol/gCDW/h**. The ratio of formate/acetate is **4.8**.  \n",
    "* **85%** NADH comes directly from formate.  \n",
    "* **88%** NADH is used to generate ATP.\n",
    "* Biomass yield is **$ 2 \\times{10 ^ {-2}}$ unit OD600 per mM formate**."
   ]
  },
  {
   "cell_type": "code",
   "execution_count": 19,
   "metadata": {},
   "outputs": [
    {
     "output_type": "execute_result",
     "data": {
      "text/plain": "   formate_conc  max_OD600  doubling_time     Yield  growth_rate\n0    100.000000      0.430            6.1  0.004300     0.113631\n1     66.666667      0.363            5.6  0.005445     0.123776\n2     44.444444      0.273            5.2  0.006143     0.133298\n3     29.629630      0.211            5.2  0.007121     0.133298\n4     19.753086      0.163            5.5  0.008252     0.126027\n5     13.168724      0.122            5.8  0.009264     0.119508",
      "text/html": "<div>\n<style scoped>\n    .dataframe tbody tr th:only-of-type {\n        vertical-align: middle;\n    }\n\n    .dataframe tbody tr th {\n        vertical-align: top;\n    }\n\n    .dataframe thead th {\n        text-align: right;\n    }\n</style>\n<table border=\"1\" class=\"dataframe\">\n  <thead>\n    <tr style=\"text-align: right;\">\n      <th></th>\n      <th>formate_conc</th>\n      <th>max_OD600</th>\n      <th>doubling_time</th>\n      <th>Yield</th>\n      <th>growth_rate</th>\n    </tr>\n  </thead>\n  <tbody>\n    <tr>\n      <th>0</th>\n      <td>100.000000</td>\n      <td>0.430</td>\n      <td>6.1</td>\n      <td>0.004300</td>\n      <td>0.113631</td>\n    </tr>\n    <tr>\n      <th>1</th>\n      <td>66.666667</td>\n      <td>0.363</td>\n      <td>5.6</td>\n      <td>0.005445</td>\n      <td>0.123776</td>\n    </tr>\n    <tr>\n      <th>2</th>\n      <td>44.444444</td>\n      <td>0.273</td>\n      <td>5.2</td>\n      <td>0.006143</td>\n      <td>0.133298</td>\n    </tr>\n    <tr>\n      <th>3</th>\n      <td>29.629630</td>\n      <td>0.211</td>\n      <td>5.2</td>\n      <td>0.007121</td>\n      <td>0.133298</td>\n    </tr>\n    <tr>\n      <th>4</th>\n      <td>19.753086</td>\n      <td>0.163</td>\n      <td>5.5</td>\n      <td>0.008252</td>\n      <td>0.126027</td>\n    </tr>\n    <tr>\n      <th>5</th>\n      <td>13.168724</td>\n      <td>0.122</td>\n      <td>5.8</td>\n      <td>0.009264</td>\n      <td>0.119508</td>\n    </tr>\n  </tbody>\n</table>\n</div>"
     },
     "metadata": {},
     "execution_count": 19
    }
   ],
   "source": [
    "growth_for = pd.DataFrame({\n",
    "    'formate_conc': np.logspace(0,5,6,base=1/1.5)*100,\n",
    "    'max_OD600': np.array([0.43,0.363,0.273,0.211,0.163,0.122]),\n",
    "    'doubling_time': np.array([6.1,5.6,5.2,5.2,5.5,5.8])\n",
    "})\n",
    "\n",
    "growth_for['Yield'] = growth_for['max_OD600'] / growth_for['formate_conc']    # unit OD600 per mM formate\n",
    "growth_for['growth_rate'] = np.log(2) / growth_for['doubling_time']\n",
    "growth_for"
   ]
  },
  {
   "cell_type": "markdown",
   "metadata": {},
   "source": [
    "Since formate (uptake or oxidation) is the limit for growth, it determines the growth rate."
   ]
  },
  {
   "cell_type": "code",
   "execution_count": 20,
   "metadata": {},
   "outputs": [
    {
     "output_type": "execute_result",
     "data": {
      "text/plain": "   formate_conc  max_OD600  doubling_time     Yield  growth_rate  EX_formate  \\\n0    100.000000      0.430            6.1  0.004300     0.113631   15.046770   \n1     66.666667      0.363            5.6  0.005445     0.123776   15.790946   \n2     44.444444      0.273            5.2  0.006143     0.133298   16.489326   \n3     29.629630      0.211            5.2  0.007121     0.133298   16.489326   \n4     19.753086      0.163            5.5  0.008252     0.126027   15.956017   \n5     13.168724      0.122            5.8  0.009264     0.119508   15.477879   \n\n   EX_acetate  Yield_cal    for/ac  \n0    2.905571   0.019364  5.178594  \n1    3.164997   0.020099  4.989246  \n2    3.408458   0.020728  4.837767  \n3    3.408458   0.020728  4.837767  \n4    3.222542   0.020252  4.951376  \n5    3.055859   0.019798  5.064985  ",
      "text/html": "<div>\n<style scoped>\n    .dataframe tbody tr th:only-of-type {\n        vertical-align: middle;\n    }\n\n    .dataframe tbody tr th {\n        vertical-align: top;\n    }\n\n    .dataframe thead th {\n        text-align: right;\n    }\n</style>\n<table border=\"1\" class=\"dataframe\">\n  <thead>\n    <tr style=\"text-align: right;\">\n      <th></th>\n      <th>formate_conc</th>\n      <th>max_OD600</th>\n      <th>doubling_time</th>\n      <th>Yield</th>\n      <th>growth_rate</th>\n      <th>EX_formate</th>\n      <th>EX_acetate</th>\n      <th>Yield_cal</th>\n      <th>for/ac</th>\n    </tr>\n  </thead>\n  <tbody>\n    <tr>\n      <th>0</th>\n      <td>100.000000</td>\n      <td>0.430</td>\n      <td>6.1</td>\n      <td>0.004300</td>\n      <td>0.113631</td>\n      <td>15.046770</td>\n      <td>2.905571</td>\n      <td>0.019364</td>\n      <td>5.178594</td>\n    </tr>\n    <tr>\n      <th>1</th>\n      <td>66.666667</td>\n      <td>0.363</td>\n      <td>5.6</td>\n      <td>0.005445</td>\n      <td>0.123776</td>\n      <td>15.790946</td>\n      <td>3.164997</td>\n      <td>0.020099</td>\n      <td>4.989246</td>\n    </tr>\n    <tr>\n      <th>2</th>\n      <td>44.444444</td>\n      <td>0.273</td>\n      <td>5.2</td>\n      <td>0.006143</td>\n      <td>0.133298</td>\n      <td>16.489326</td>\n      <td>3.408458</td>\n      <td>0.020728</td>\n      <td>4.837767</td>\n    </tr>\n    <tr>\n      <th>3</th>\n      <td>29.629630</td>\n      <td>0.211</td>\n      <td>5.2</td>\n      <td>0.007121</td>\n      <td>0.133298</td>\n      <td>16.489326</td>\n      <td>3.408458</td>\n      <td>0.020728</td>\n      <td>4.837767</td>\n    </tr>\n    <tr>\n      <th>4</th>\n      <td>19.753086</td>\n      <td>0.163</td>\n      <td>5.5</td>\n      <td>0.008252</td>\n      <td>0.126027</td>\n      <td>15.956017</td>\n      <td>3.222542</td>\n      <td>0.020252</td>\n      <td>4.951376</td>\n    </tr>\n    <tr>\n      <th>5</th>\n      <td>13.168724</td>\n      <td>0.122</td>\n      <td>5.8</td>\n      <td>0.009264</td>\n      <td>0.119508</td>\n      <td>15.477879</td>\n      <td>3.055859</td>\n      <td>0.019798</td>\n      <td>5.064985</td>\n    </tr>\n  </tbody>\n</table>\n</div>"
     },
     "metadata": {},
     "execution_count": 20
    }
   ],
   "source": [
    "with model_FDH as m: \n",
    "    m.reactions.EX_ac_e.lower_bound = -13  # uptake rate, in mmol/gCDW/h\n",
    "    m.reactions.EX_for_e.lower_bound = -1000\n",
    "    m.objective = {m.reactions.EX_for_e: -1}\n",
    "    m.objective_direction = 'min'\n",
    "    for i in range(len(growth_for['growth_rate'])):\n",
    "        gr = growth_for.loc[i, 'growth_rate']\n",
    "        m.reactions.BIOMASS_Ecoli_core_w_GAM.bounds = (gr, gr)\n",
    "        cobra.flux_analysis.pfba(m)\n",
    "        growth_for.loc[i, 'EX_formate'] = abs(m.reactions.EX_for_e.flux)\n",
    "        growth_for.loc[i, 'EX_acetate'] = abs(m.reactions.EX_ac_e.flux)\n",
    "\n",
    "growth_for['Yield_cal'] = growth_for['growth_rate']/growth_for['EX_formate'] / OD2Y  # unit OD600 per mM formate\n",
    "growth_for['for/ac'] = growth_for['EX_formate'] / growth_for['EX_acetate']\n",
    "\n",
    "growth_for"
   ]
  },
  {
   "cell_type": "markdown",
   "metadata": {},
   "source": [
    "### In the Ethanol, Fig. 3\n",
    "50 mM EtOH condition: doubling time is 6.5 h, max OD600 is 1.48"
   ]
  },
  {
   "cell_type": "code",
   "execution_count": 21,
   "metadata": {
    "tags": []
   },
   "outputs": [
    {
     "output_type": "stream",
     "name": "stdout",
     "text": "IN FLUXES      OUT FLUXES    OBJECTIVES\n-------------  ------------  ---------------\no2_e    7.72   h2o_e  9.22   EX_etoh_e  5.13\netoh_e  5.13   h_e    3.34\nnh4_e   0.581  co2_e  2.12\npi_e    0.392  pyr_e  1.2\n"
    }
   ],
   "source": [
    "# reactions for EtOH -> AcCoA are existed in the model\n",
    "with model as m: \n",
    "    gr = np.log(2) / 6.5\n",
    "    m.reactions.EX_etoh_e.lower_bound = -1000\n",
    "    m.reactions.BIOMASS_Ecoli_core_w_GAM.bounds = (gr, gr)\n",
    "    m.objective = {m.reactions.EX_etoh_e: -1}\n",
    "    m.objective_direction = 'min'\n",
    "    cobra.flux_analysis.pfba(m)\n",
    "    m.summary()\n",
    "    flux2file(m,'biomass_etoh','lpd_core')"
   ]
  },
  {
   "cell_type": "markdown",
   "metadata": {},
   "source": [
    "The maximum uptake rate of ethanol is calculated to be **5.13 mmol/gCDW/h**.  \n",
    "There is pyruvate secretion.  \n",
    "\n",
    "Then, if assuming all EtOH is consumed and yields biomass:  "
   ]
  },
  {
   "cell_type": "code",
   "execution_count": 22,
   "metadata": {
    "tags": []
   },
   "outputs": [
    {
     "output_type": "stream",
     "name": "stdout",
     "text": "Experimental yield is  3.0e-02 unit OD600 per mM ethanol\nCalculated yield is  5.3e-02 unit OD600 per mM ethanol\n"
    }
   ],
   "source": [
    "print(f'Experimental yield is {1.48/50: .1e} unit OD600 per mM ethanol')\n",
    "print(f'Calculated yield is {gr/m.objective.value/OD2Y: .1e} unit OD600 per mM ethanol')"
   ]
  },
  {
   "cell_type": "markdown",
   "metadata": {},
   "source": [
    "### In the case of MeOH as energy source, Fig. 5B\n"
   ]
  },
  {
   "cell_type": "code",
   "execution_count": 23,
   "metadata": {},
   "outputs": [],
   "source": [
    "# building the model\n",
    "model_MDH = model.copy()\n",
    "\n",
    "meoh_c = cobra.Metabolite(id='meoh_c',\n",
    "                          formula='CH4O',\n",
    "                          name='methanol',\n",
    "                          compartment='c')\n",
    "fald_c = cobra.Metabolite(id='fald_c',\n",
    "                          formula='CH2O',\n",
    "                          name='Formaldehyde',\n",
    "                          compartment='c')\n",
    "\n",
    "EX_meoh_e = cobra.Reaction(id=\"EX_meoh_e\", name=\"methanol exchange\", lower_bound=0, upper_bound=1000) \n",
    "model_MDH.add_reaction(EX_meoh_e)\n",
    "EX_meoh_e.add_metabolites({meoh_c: -1})\n",
    "\n",
    "MeDH = cobra.Reaction(id=\"MeDH\", name=\"methanol dehydrogenase\", lower_bound=0, upper_bound=1000) \n",
    "model_MDH.add_reaction(MeDH)\n",
    "MeDH.add_metabolites({meoh_c: -1, \"nad_c\": -1, fald_c: 1, \"nadh_c\": 1, 'h_c': 1})\n",
    "\n",
    "FRM = cobra.Reaction(id=\"FRM\", name=\"formaldehyde oxidation, overall\", lower_bound=0, upper_bound=1000) \n",
    "model_MDH.add_reaction(FRM)\n",
    "FRM.add_metabolites({fald_c: -1, \"nad_c\": -1, 'h2o_c': -1, \"for_c\": 1, \"nadh_c\": 1, 'h_c': 2})"
   ]
  },
  {
   "cell_type": "code",
   "execution_count": 24,
   "metadata": {
    "tags": []
   },
   "outputs": [
    {
     "output_type": "stream",
     "name": "stdout",
     "text": "IN FLUXES       OUT FLUXES    OBJECTIVES\n--------------  ------------  ---------------\nac_e   13       h2o_e  14.6   EX_meoh_e  1.81\no2_e   11.3     co2_e   6.41\nh_e     4.53    pyr_e   6.22\nnh4_e   0.118   for_e   1.81\npi_e    0.0797\n\n * - * - *\nPRODUCING REACTIONS -- Formate (for_c)\n--------------------------------------\n%       FLUX  RXN ID    REACTION\n----  ------  --------  -------------------------------------------------\n100%    1.81  FRM       fald_c + h2o_c + nad_c --> for_c + 2 h_c + nadh_c\n\nCONSUMING REACTIONS -- Formate (for_c)\n--------------------------------------\n%       FLUX  RXN ID    REACTION\n----  ------  --------  -------------------------------------------------\n100%    1.81  FORt      for_e <-- for_c\n\n * - * - *\nPRODUCING REACTIONS -- Nicotinamide adenine dinucleotide - reduced (nadh_c)\n---------------------------------------------------------------------------\n%       FLUX  RXN ID    REACTION\n----  ------  --------  --------------------------------------------------\n41%     6.61  MDH       mal__L_c + nad_c <=> h_c + nadh_c + oaa_c\n37%     5.91  NADTRHD   nad_c + nadph_c --> nadh_c + nadp_c\n11%     1.81  FRM       fald_c + h2o_c + nad_c --> for_c + 2 h_c + nadh_c\n11%     1.81  MeDH      meoh_c + nad_c --> fald_c + h_c + nadh_c\n\nCONSUMING REACTIONS -- Nicotinamide adenine dinucleotide - reduced (nadh_c)\n---------------------------------------------------------------------------\n%       FLUX  RXN ID    REACTION\n----  ------  --------  --------------------------------------------------\n100%   16.2   NADH16    4.0 h_c + nadh_c + q8_c --> 3.0 h_e + nad_c + q...\n"
    }
   ],
   "source": [
    "with model_MDH as m: \n",
    "    gr = np.log(2) / 32  # 20 mM ac + 667 mM MeOH, the highest growth rate\n",
    "    m.reactions.EX_ac_e.lower_bound = -13   \n",
    "    m.reactions.BIOMASS_Ecoli_core_w_GAM.bounds = (gr, gr)\n",
    "    m.reactions.EX_meoh_e.lower_bound = -1000\n",
    "    m.objective = {m.reactions.EX_meoh_e: -1}\n",
    "    m.objective_direction = 'min'\n",
    "    cobra.flux_analysis.pfba(m)\n",
    "    m.summary()\n",
    "    flux2file(m,'biomass_meoh_1','lpd_core')\n",
    "\n",
    "    print('\\n', '* - * - *')\n",
    "    m.metabolites.for_c.summary()\n",
    "\n",
    "    print('\\n', '* - * - *')\n",
    "    m.metabolites.nadh_c.summary()"
   ]
  },
  {
   "cell_type": "code",
   "execution_count": 25,
   "metadata": {
    "tags": []
   },
   "outputs": [
    {
     "output_type": "stream",
     "name": "stdout",
     "text": "IN FLUXES      OUT FLUXES    OBJECTIVES\n-------------  ------------  ---------------\no2_e   4.77    h2o_e  4.96   EX_meoh_e  4.61\nac_e   0.554   for_e  4.61\nnh4_e  0.118   h_e    4.49\npi_e   0.0797  co2_e  0.186\n\n * - * - *\nPRODUCING REACTIONS -- Formate (for_c)\n--------------------------------------\n%       FLUX  RXN ID    REACTION\n----  ------  --------  -------------------------------------------------\n100%    4.61  FRM       fald_c + h2o_c + nad_c --> for_c + 2 h_c + nadh_c\n\nCONSUMING REACTIONS -- Formate (for_c)\n--------------------------------------\n%       FLUX  RXN ID    REACTION\n----  ------  --------  -------------------------------------------------\n100%    4.61  FORt      for_e <-- for_c\n\n * - * - *\nPRODUCING REACTIONS -- Nicotinamide adenine dinucleotide - reduced (nadh_c)\n---------------------------------------------------------------------------\n%      FLUX  RXN ID    REACTION\n---  ------  --------  --------------------------------------------------\n48%   4.61   FRM       fald_c + h2o_c + nad_c --> for_c + 2 h_c + nadh_c\n48%   4.61   MeDH      meoh_c + nad_c --> fald_c + h_c + nadh_c\n4%    0.388  MDH       mal__L_c + nad_c <=> h_c + nadh_c + oaa_c\n\nCONSUMING REACTIONS -- Nicotinamide adenine dinucleotide - reduced (nadh_c)\n---------------------------------------------------------------------------\n%      FLUX  RXN ID    REACTION\n---  ------  --------  --------------------------------------------------\n97%   9.32   NADH16    4.0 h_c + nadh_c + q8_c --> 3.0 h_e + nad_c + q...\n3%    0.31   THD2      h_e + nadh_c + nadp_c --> h_c + nad_c + nadph_c\n"
    }
   ],
   "source": [
    "# secretions, acetate is not limiting\n",
    "\n",
    "# Block exchange reactions to avoid secretion, expect formate\n",
    "for rxn in model_MDH.exchanges:\n",
    "    if \"C\" in rxn.check_mass_balance(): # knock out all other carbon-related transporters\n",
    "        rxn.bounds = (0, 0)\n",
    "model_MDH.reactions.EX_co2_e.bounds = (-1000, 1000)\n",
    "model_MDH.reactions.EX_for_e.bounds = (0,1000)  # no FDH overexpression\n",
    "\n",
    "with model_MDH as m:\n",
    "    gr = np.log(2) / 32  # 20 mM ac + 667 mM MeOH, the highest growth rate\n",
    "    m.reactions.EX_ac_e.lower_bound = -13\n",
    "    m.reactions.BIOMASS_Ecoli_core_w_GAM.bounds = (gr, gr)\n",
    "    m.reactions.EX_meoh_e.lower_bound = -1000\n",
    "    m.objective = {m.reactions.EX_meoh_e: -1}\n",
    "    m.objective_direction = 'min'\n",
    "    cobra.flux_analysis.pfba(m)\n",
    "    m.summary()\n",
    "    flux2file(m,'biomass_meoh_2','lpd_core')\n",
    "\n",
    "    print('\\n', '* - * - *')\n",
    "    m.metabolites.for_c.summary()\n",
    "\n",
    "    print('\\n', '* - * - *')\n",
    "    m.metabolites.nadh_c.summary()"
   ]
  },
  {
   "cell_type": "markdown",
   "metadata": {},
   "source": [
    "Assuming the acetate uptake rate to be the maximum as WT on acetate, _13 mmol/gCDW/h_, the maximum MeOH uptake is calculated to be **4.61 mmol/gCDW/h**. Similar to the formate: \n",
    "* **56%** (MeDH + FRM) comes from directly from methanol, acetate contributes **44%** by secreting pyruvate.  \n",
    "* **97%** electrons are used to generate ATP.    "
   ]
  },
  {
   "cell_type": "code",
   "execution_count": 26,
   "metadata": {},
   "outputs": [
    {
     "output_type": "execute_result",
     "data": {
      "text/plain": "     MeOH_conc  max_OD600  doubling_time     Yield  growth_rate   EX_meoh  \\\n0  1000.000000      0.278             38  0.000278     0.018241  8.359317   \n1   666.666667      0.504             32  0.000756     0.021661  8.772748   \n2   444.444444      0.341             37  0.000767     0.018734  9.160737   \n3   296.296296      0.234             37  0.000790     0.018734  9.160737   \n\n   EX_acetate  Yield_cal   meoh/ac  \n0    2.905571   0.005595  2.876996  \n1    3.164997   0.006331  2.771803  \n2    3.408458   0.005244  2.687648  \n3    3.408458   0.005244  2.687648  ",
      "text/html": "<div>\n<style scoped>\n    .dataframe tbody tr th:only-of-type {\n        vertical-align: middle;\n    }\n\n    .dataframe tbody tr th {\n        vertical-align: top;\n    }\n\n    .dataframe thead th {\n        text-align: right;\n    }\n</style>\n<table border=\"1\" class=\"dataframe\">\n  <thead>\n    <tr style=\"text-align: right;\">\n      <th></th>\n      <th>MeOH_conc</th>\n      <th>max_OD600</th>\n      <th>doubling_time</th>\n      <th>Yield</th>\n      <th>growth_rate</th>\n      <th>EX_meoh</th>\n      <th>EX_acetate</th>\n      <th>Yield_cal</th>\n      <th>meoh/ac</th>\n    </tr>\n  </thead>\n  <tbody>\n    <tr>\n      <th>0</th>\n      <td>1000.000000</td>\n      <td>0.278</td>\n      <td>38</td>\n      <td>0.000278</td>\n      <td>0.018241</td>\n      <td>8.359317</td>\n      <td>2.905571</td>\n      <td>0.005595</td>\n      <td>2.876996</td>\n    </tr>\n    <tr>\n      <th>1</th>\n      <td>666.666667</td>\n      <td>0.504</td>\n      <td>32</td>\n      <td>0.000756</td>\n      <td>0.021661</td>\n      <td>8.772748</td>\n      <td>3.164997</td>\n      <td>0.006331</td>\n      <td>2.771803</td>\n    </tr>\n    <tr>\n      <th>2</th>\n      <td>444.444444</td>\n      <td>0.341</td>\n      <td>37</td>\n      <td>0.000767</td>\n      <td>0.018734</td>\n      <td>9.160737</td>\n      <td>3.408458</td>\n      <td>0.005244</td>\n      <td>2.687648</td>\n    </tr>\n    <tr>\n      <th>3</th>\n      <td>296.296296</td>\n      <td>0.234</td>\n      <td>37</td>\n      <td>0.000790</td>\n      <td>0.018734</td>\n      <td>9.160737</td>\n      <td>3.408458</td>\n      <td>0.005244</td>\n      <td>2.687648</td>\n    </tr>\n  </tbody>\n</table>\n</div>"
     },
     "metadata": {},
     "execution_count": 26
    }
   ],
   "source": [
    "growth_meoh = pd.DataFrame({\n",
    "    'MeOH_conc': np.logspace(0,3,4,base=1/1.5)*1000,\n",
    "    'max_OD600': np.array([0.278,0.504,0.341,0.234]),\n",
    "    'doubling_time': np.array([38,32,37,37])    \n",
    "})\n",
    "\n",
    "growth_meoh['Yield'] = growth_meoh['max_OD600'] / growth_meoh['MeOH_conc']  # unit OD600 per mM methanol\n",
    "growth_meoh['growth_rate'] = np.log(2) / growth_meoh['doubling_time']\n",
    "\n",
    "with model_MDH as m:\n",
    "    m.reactions.EX_ac_e.lower_bound = -13\n",
    "    m.reactions.EX_meoh_e.lower_bound = -1000\n",
    "    m.objective = {m.reactions.EX_meoh_e: -1}\n",
    "    m.objective_direction = 'min'\n",
    "   \n",
    "    for i in range(len(growth_meoh['growth_rate'])):\n",
    "        # gr = growth_meoh.loc[i, 'growth_rate']\n",
    "        gr = growth_for.loc[i,'growth_rate']\n",
    "        m.reactions.BIOMASS_Ecoli_core_w_GAM.bounds = (gr, gr)\n",
    "        cobra.flux_analysis.pfba(m)\n",
    "        flux2file(m,f'meoh_{i}','lpd_for')\n",
    "        growth_meoh.loc[i, 'EX_meoh'] = abs(m.reactions.EX_meoh_e.flux)\n",
    "        growth_meoh.loc[i, 'EX_acetate'] = abs(m.reactions.EX_ac_e.flux)\n",
    "\n",
    "growth_meoh['Yield_cal'] = growth_meoh['growth_rate'] / growth_meoh['EX_meoh'] / OD2Y  # unit OD600 per mM methanol\n",
    "growth_meoh['meoh/ac'] = growth_meoh['EX_meoh'] / growth_meoh['EX_acetate']\n",
    "\n",
    "growth_meoh"
   ]
  },
  {
   "cell_type": "markdown",
   "metadata": {},
   "source": [
    "### Fig. 6"
   ]
  },
  {
   "cell_type": "code",
   "execution_count": 27,
   "metadata": {},
   "outputs": [
    {
     "output_type": "execute_result",
     "data": {
      "text/plain": "      MDH  doubling_time  growth_rate\n0   CnMDH            2.7     0.256721\n1  BmMDH*            3.0     0.231049\n2   BsMDH            3.0     0.231049\n3   CgMDH           10.0     0.069315",
      "text/html": "<div>\n<style scoped>\n    .dataframe tbody tr th:only-of-type {\n        vertical-align: middle;\n    }\n\n    .dataframe tbody tr th {\n        vertical-align: top;\n    }\n\n    .dataframe thead th {\n        text-align: right;\n    }\n</style>\n<table border=\"1\" class=\"dataframe\">\n  <thead>\n    <tr style=\"text-align: right;\">\n      <th></th>\n      <th>MDH</th>\n      <th>doubling_time</th>\n      <th>growth_rate</th>\n    </tr>\n  </thead>\n  <tbody>\n    <tr>\n      <th>0</th>\n      <td>CnMDH</td>\n      <td>2.7</td>\n      <td>0.256721</td>\n    </tr>\n    <tr>\n      <th>1</th>\n      <td>BmMDH*</td>\n      <td>3.0</td>\n      <td>0.231049</td>\n    </tr>\n    <tr>\n      <th>2</th>\n      <td>BsMDH</td>\n      <td>3.0</td>\n      <td>0.231049</td>\n    </tr>\n    <tr>\n      <th>3</th>\n      <td>CgMDH</td>\n      <td>10.0</td>\n      <td>0.069315</td>\n    </tr>\n  </tbody>\n</table>\n</div>"
     },
     "metadata": {},
     "execution_count": 27
    }
   ],
   "source": [
    "# growth data without formate\n",
    "growth_MDH = pd.DataFrame({\n",
    "    'MDH':['CnMDH', 'BmMDH*','BsMDH','CgMDH'],\n",
    "    'doubling_time': [2.7,3,3,10]\n",
    "})\n",
    "growth_MDH['growth_rate'] = np.log(2) / growth_MDH['doubling_time']\n",
    "growth_MDH"
   ]
  },
  {
   "cell_type": "code",
   "execution_count": 28,
   "metadata": {},
   "outputs": [
    {
     "output_type": "execute_result",
     "data": {
      "text/plain": "      MDH  doubling_time  growth_rate\n0   CnMDH            2.2     0.315067\n1  BmMDH*            1.7     0.407734\n2   BsMDH            2.1     0.330070\n3   CgMDH            1.6     0.433217",
      "text/html": "<div>\n<style scoped>\n    .dataframe tbody tr th:only-of-type {\n        vertical-align: middle;\n    }\n\n    .dataframe tbody tr th {\n        vertical-align: top;\n    }\n\n    .dataframe thead th {\n        text-align: right;\n    }\n</style>\n<table border=\"1\" class=\"dataframe\">\n  <thead>\n    <tr style=\"text-align: right;\">\n      <th></th>\n      <th>MDH</th>\n      <th>doubling_time</th>\n      <th>growth_rate</th>\n    </tr>\n  </thead>\n  <tbody>\n    <tr>\n      <th>0</th>\n      <td>CnMDH</td>\n      <td>2.2</td>\n      <td>0.315067</td>\n    </tr>\n    <tr>\n      <th>1</th>\n      <td>BmMDH*</td>\n      <td>1.7</td>\n      <td>0.407734</td>\n    </tr>\n    <tr>\n      <th>2</th>\n      <td>BsMDH</td>\n      <td>2.1</td>\n      <td>0.330070</td>\n    </tr>\n    <tr>\n      <th>3</th>\n      <td>CgMDH</td>\n      <td>1.6</td>\n      <td>0.433217</td>\n    </tr>\n  </tbody>\n</table>\n</div>"
     },
     "metadata": {},
     "execution_count": 28
    }
   ],
   "source": [
    "# growth data with foramte\n",
    "growth_MDH_for = pd.DataFrame({\n",
    "    'MDH':['CnMDH', 'BmMDH*','BsMDH','CgMDH'],\n",
    "    'doubling_time': [2.2,1.7,2.1,1.6]\n",
    "})\n",
    "growth_MDH_for['growth_rate'] = np.log(2) / growth_MDH_for['doubling_time']  # 1/h\n",
    "growth_MDH_for"
   ]
  },
  {
   "cell_type": "code",
   "execution_count": 29,
   "metadata": {
    "tags": []
   },
   "outputs": [
    {
     "output_type": "stream",
     "name": "stdout",
     "text": "EX_meoh_e: meoh_c --> \nMeDH: meoh_c + nad_c --> fald_c + h_c + nadh_c\nFRM: fald_c + h2o_c + nad_c --> for_c + 2 h_c + nadh_c\nFTHFLi: atp_c + for_c + thf_c --> 10fthf_c + adp_c + pi_c\nMTHFC: h2o_c + methf_c <=> 10fthf_c + h_c\nMTHFD: mlthf_c + nadp_c <=> methf_c + nadph_c\nGLYCL: gly_c + nad_c + thf_c --> co2_c + mlthf_c + nadh_c + nh4_c\nGHMT2r: ser__L_c + thf_c <=> gly_c + h2o_c + mlthf_c\n"
    }
   ],
   "source": [
    "# first build the model\n",
    "model_C1 = model_wt.copy()\n",
    "full_model = cobra.io.load_json_model(r'..\\0_ecoli_models\\iML1515.json')\n",
    "\n",
    "newRxns = [\n",
    "    model_MDH.reactions.EX_meoh_e,\n",
    "    model_MDH.reactions.MeDH,\n",
    "    model_MDH.reactions.FRM,\n",
    "    full_model.reactions.FTHFLi,  # formate-THF ligase\n",
    "    full_model.reactions.MTHFC,   # Methenyltetrahydrofolate cyclohydrolase\n",
    "    full_model.reactions.MTHFD,   # Methylenetetrahydrofolate dehydrogenase (NADP)\n",
    "    full_model.reactions.GLYCL,   # GCV\n",
    "    full_model.reactions.GHMT2r   # GlyA\n",
    "]\n",
    "\n",
    "# to check the reactions\n",
    "for i in newRxns:\n",
    "    print(i)"
   ]
  },
  {
   "cell_type": "code",
   "execution_count": 30,
   "metadata": {
    "tags": []
   },
   "outputs": [
    {
     "output_type": "stream",
     "name": "stdout",
     "text": "BIOMASS_Ecoli_core_w_GAM: 3.7478 accoa_c + 59.81 atp_c + 0.361 e4p_c + 0.0709 f6p_c + 0.129 g3p_c + 0.205 g6p_c + 0.2557 gln__L_c + 3.4454 glu__L_c + 1.033 gly_c + 59.35 h2o_c + 1.033 mlthf_c + 2.051 nad_c + 13.0279 nadph_c + 1.7867 oaa_c + 0.5191 pep_c + 2.8328 pyr_c + 0.8977 r5p_c + 0.462 ser__L_c --> 59.81 adp_c + 2.6222 akg_c + 3.7478 coa_c + 58.27 h_c + 2.051 nadh_c + 13.0279 nadp_c + 58.31 pi_c + 1.033 thf_c\n"
    }
   ],
   "source": [
    "newRxns[6].bounds = (-1000,1000)  # change GCV to be reversible\n",
    "model_C1.add_reactions(newRxns)   # add the new reactions to the model\n",
    "\n",
    "# update the biomass function by replacing 3pg to ser, gly and C1\n",
    "# from DOI 10.1021/acssynbio.8b00093\n",
    "model_C1.reactions.BIOMASS_Ecoli_core_w_GAM.build_reaction_from_string(\"0.462 ser__L_c + 1.033 gly_c + 1.033 mlthf_c + 3.7478 accoa_c + 59.81 atp_c + 0.361 e4p_c + 0.0709 f6p_c + 0.129 g3p_c + 0.205 g6p_c + 0.2557 gln__L_c + 3.4454 glu__L_c + 59.35 h2o_c + 2.051 nad_c + 13.0279 nadph_c + 1.7867 oaa_c + 0.5191 pep_c + 2.8328 pyr_c + 0.8977 r5p_c -> 59.81 adp_c + 2.6222 akg_c + 3.7478 coa_c + 58.27 h_c + 2.051 nadh_c + 13.0279 nadp_c + 58.31 pi_c + 1.033 thf_c\")\n",
    "print(model_C1.reactions.BIOMASS_Ecoli_core_w_GAM)"
   ]
  },
  {
   "cell_type": "code",
   "execution_count": 31,
   "metadata": {
    "tags": []
   },
   "outputs": [
    {
     "output_type": "execute_result",
     "data": {
      "text/plain": "      MDH  doubling_time  growth_rate  MeDH_flux\n0   CnMDH            2.7     0.256721   0.767596\n1  BmMDH*            3.0     0.231049   0.690837\n2   BsMDH            3.0     0.231049   0.690837\n3   CgMDH           10.0     0.069315   0.207251",
      "text/html": "<div>\n<style scoped>\n    .dataframe tbody tr th:only-of-type {\n        vertical-align: middle;\n    }\n\n    .dataframe tbody tr th {\n        vertical-align: top;\n    }\n\n    .dataframe thead th {\n        text-align: right;\n    }\n</style>\n<table border=\"1\" class=\"dataframe\">\n  <thead>\n    <tr style=\"text-align: right;\">\n      <th></th>\n      <th>MDH</th>\n      <th>doubling_time</th>\n      <th>growth_rate</th>\n      <th>MeDH_flux</th>\n    </tr>\n  </thead>\n  <tbody>\n    <tr>\n      <th>0</th>\n      <td>CnMDH</td>\n      <td>2.7</td>\n      <td>0.256721</td>\n      <td>0.767596</td>\n    </tr>\n    <tr>\n      <th>1</th>\n      <td>BmMDH*</td>\n      <td>3.0</td>\n      <td>0.231049</td>\n      <td>0.690837</td>\n    </tr>\n    <tr>\n      <th>2</th>\n      <td>BsMDH</td>\n      <td>3.0</td>\n      <td>0.231049</td>\n      <td>0.690837</td>\n    </tr>\n    <tr>\n      <th>3</th>\n      <td>CgMDH</td>\n      <td>10.0</td>\n      <td>0.069315</td>\n      <td>0.207251</td>\n    </tr>\n  </tbody>\n</table>\n</div>"
     },
     "metadata": {},
     "execution_count": 31
    }
   ],
   "source": [
    "# assuming glc uptake rate is -10.5 as WT\n",
    "with model_C1 as m:\n",
    "    m.reactions.EX_glc__D_e.lower_bound = -10.5\n",
    "    m.reactions.EX_meoh_e.lower_bound = -1000\n",
    "    m.objective = 'MeDH'\n",
    "    m.objective_direction = 'min'\n",
    "    for i in range(len(growth_MDH)):\n",
    "        gr = growth_MDH.loc[i,'growth_rate']\n",
    "        m.reactions.BIOMASS_Ecoli_core_w_GAM.bounds = (gr, gr)\n",
    "        cobra.flux_analysis.pfba(m)\n",
    "        growth_MDH.loc[i,'MeDH_flux'] = m.reactions.MeDH.flux  # in mmol/gCDW/h\n",
    "\n",
    "growth_MDH"
   ]
  },
  {
   "cell_type": "code",
   "execution_count": 32,
   "metadata": {},
   "outputs": [
    {
     "output_type": "execute_result",
     "data": {
      "text/plain": "      MDH  doubling_time  growth_rate  MeDH_flux\n0   CnMDH            2.2     0.315067   0.942050\n1  BmMDH*            1.7     0.407734   1.219124\n2   BsMDH            2.1     0.330070   0.986910\n3   CgMDH            1.6     0.433217   1.295319",
      "text/html": "<div>\n<style scoped>\n    .dataframe tbody tr th:only-of-type {\n        vertical-align: middle;\n    }\n\n    .dataframe tbody tr th {\n        vertical-align: top;\n    }\n\n    .dataframe thead th {\n        text-align: right;\n    }\n</style>\n<table border=\"1\" class=\"dataframe\">\n  <thead>\n    <tr style=\"text-align: right;\">\n      <th></th>\n      <th>MDH</th>\n      <th>doubling_time</th>\n      <th>growth_rate</th>\n      <th>MeDH_flux</th>\n    </tr>\n  </thead>\n  <tbody>\n    <tr>\n      <th>0</th>\n      <td>CnMDH</td>\n      <td>2.2</td>\n      <td>0.315067</td>\n      <td>0.942050</td>\n    </tr>\n    <tr>\n      <th>1</th>\n      <td>BmMDH*</td>\n      <td>1.7</td>\n      <td>0.407734</td>\n      <td>1.219124</td>\n    </tr>\n    <tr>\n      <th>2</th>\n      <td>BsMDH</td>\n      <td>2.1</td>\n      <td>0.330070</td>\n      <td>0.986910</td>\n    </tr>\n    <tr>\n      <th>3</th>\n      <td>CgMDH</td>\n      <td>1.6</td>\n      <td>0.433217</td>\n      <td>1.295319</td>\n    </tr>\n  </tbody>\n</table>\n</div>"
     },
     "metadata": {},
     "execution_count": 32
    }
   ],
   "source": [
    "# While the maximum growth the strain can reach is as with foramte\n",
    "with model_C1 as m:\n",
    "    m.reactions.EX_glc__D_e.lower_bound = -10.5\n",
    "    m.reactions.EX_meoh_e.lower_bound = -1000\n",
    "    m.objective = 'MeDH'\n",
    "    m.objective_direction = 'min'\n",
    "    for i in range(len(growth_MDH_for)):\n",
    "        gr = growth_MDH_for.loc[i,'growth_rate']\n",
    "        m.reactions.BIOMASS_Ecoli_core_w_GAM.bounds = (gr, gr)\n",
    "        cobra.flux_analysis.pfba(m)\n",
    "        growth_MDH_for.loc[i,'MeDH_flux'] = m.reactions.MeDH.flux  # in mmol/gCDW/h\n",
    "\n",
    "growth_MDH_for"
   ]
  },
  {
   "cell_type": "code",
   "execution_count": 34,
   "metadata": {
    "tags": []
   },
   "outputs": [
    {
     "output_type": "stream",
     "name": "stderr",
     "text": "[NbConvertApp] Converting notebook LPD_FBA.ipynb to html\n[NbConvertApp] Writing 400543 bytes to LPD_FBA.html\n"
    }
   ],
   "source": []
  }
 ],
 "metadata": {
  "file_extension": ".py",
  "kernelspec": {
   "display_name": "Python 3.7.7 64-bit",
   "language": "python",
   "name": "python37764bit0325cdfdd1534630a7141b9ed18b3985"
  },
  "language_info": {
   "codemirror_mode": {
    "name": "ipython",
    "version": 3
   },
   "file_extension": ".py",
   "mimetype": "text/x-python",
   "name": "python",
   "nbconvert_exporter": "python",
   "pygments_lexer": "ipython3",
   "version": "3.7.7-final"
  },
  "mimetype": "text/x-python",
  "name": "python",
  "npconvert_exporter": "python",
  "pygments_lexer": "ipython3",
  "version": 3
 },
 "nbformat": 4,
 "nbformat_minor": 2
}