{
 "cells": [
  {
   "cell_type": "code",
   "execution_count": 1,
   "metadata": {
    "tags": []
   },
   "outputs": [
    {
     "output_type": "stream",
     "name": "stdout",
     "text": "Python version: 3.7.3 (default, Mar 27 2019, 17:13:21) [MSC v.1915 64 bit (AMD64)]\nnumpy version: 1.16.4\npandas version: 1.0.3\ncobrapy version: 0.15.4\n"
    }
   ],
   "source": [
    "# -*- coding: utf-8 -*-\n",
    "import sys\n",
    "import os\n",
    "import itertools\n",
    "import numpy as np\n",
    "import pandas as pd\n",
    "import cobra\n",
    "import matplotlib.pyplot as plt \n",
    "plt.rc('axes', axisbelow=True)\n",
    "\n",
    "print('Python version:', sys.version)\n",
    "print('numpy version:', np.__version__)\n",
    "print('pandas version:', pd.__version__)\n",
    "print('cobrapy version:', cobra.__version__)"
   ]
  },
  {
   "cell_type": "code",
   "execution_count": 2,
   "metadata": {},
   "outputs": [],
   "source": [
    "def AddRxn(model, newRxnFile):\n",
    "    \"\"\"Function of adding new reactions to the model.\"\"\"\n",
    "    n1 = len(model.reactions)\n",
    "    AllAddRxn = pd.read_csv(newRxnFile, sep=',', index_col='RxnID', skipinitialspace=True)\n",
    "    n2 = len(AllAddRxn)\n",
    "    for i in range(n2):\n",
    "        ID = AllAddRxn.index.values[i]\n",
    "        addRxn = cobra.Reaction(ID)\n",
    "        model.add_reactions([addRxn])\n",
    "        addRxnInf = model.reactions[n1 + i]\n",
    "        addRxnInf.name = AllAddRxn.loc[ID, 'RxnName']\n",
    "        addRxnInf.reaction = AllAddRxn.loc[ID, 'RxnFormula']\n",
    "        addRxnInf.subsystem = AllAddRxn.loc[ID, 'Subsystem']\n",
    "        addRxnInf.lower_bound = AllAddRxn.loc[ID, 'LowerBound']\n",
    "        addRxnInf.upper_bound = AllAddRxn.loc[ID, 'UpperBound']\n",
    "    return model\n"
   ]
  },
  {
   "cell_type": "code",
   "execution_count": 3,
   "metadata": {},
   "outputs": [],
   "source": [
    "def KORxn(model, rxns2KO):\n",
    "    \"\"\"Function for knocking out reactions.\"\"\"\n",
    "    for ID in rxns2KO:\n",
    "        reaction = model.reactions.get_by_id(ID)\n",
    "        reaction.knock_out()\n"
   ]
  },
  {
   "cell_type": "code",
   "execution_count": 4,
   "metadata": {},
   "outputs": [],
   "source": [
    "def flux2file(model, product, psw, output_dir='tmp'):\n",
    "    \"\"\"Function of exporting flux data.\"\"\"\n",
    "    n = len(model.reactions)\n",
    "    modelMatrix = np.empty([n, 9], dtype = object)\n",
    "    for i in range(len(model.reactions)):\n",
    "        x = model.reactions[i]\n",
    "        modelMatrix[i, 0] = i + 1\n",
    "        modelMatrix[i, 1] = x.id\n",
    "        modelMatrix[i, 2] = x.name\n",
    "        modelMatrix[i, 3] = x.reaction\n",
    "        modelMatrix[i, 4] = x.subsystem\n",
    "        modelMatrix[i, 5] = x.lower_bound\n",
    "        modelMatrix[i, 6] = x.upper_bound\n",
    "        modelMatrix[i, 7] = x.flux\n",
    "        modelMatrix[i, 8] = abs(x.flux)\n",
    "        \n",
    "    df = pd.DataFrame(data = modelMatrix, \n",
    "                        columns = ['N', 'RxnID', 'RxnName', 'Reaction', 'SubSystem', \n",
    "                        'LowerBound', 'UpperBound', 'Flux-core', 'abs(Flux)'])\n",
    "    if not os.path.exists(output_dir):\n",
    "        os.mkdir(output_dir)\n",
    "    filepath = os.path.join(output_dir, '{}_{}.xlsx'.format(product, psw))\n",
    "    df.to_excel(filepath, index=False)\n",
    "    "
   ]
  },
  {
   "cell_type": "markdown",
   "metadata": {},
   "source": [
    "## Summary of the changes in the model:\n",
    "\n",
    "#### E. coli full model *i*ML1515 with some changes:\t\n",
    "\n",
    "* Corrected the transhydrogenase (THD2pp) to one proton translocation;\n",
    "* Corrected homoserine dehydrogenase to be irreversible, towards homoserine. \n",
    "* Knocked out: ATP maintenance (ATPM), pyruvate synthase (POR5), 3pg producing glycerate kinase (GLYCK), \n",
    "pyrroloquinoline quinone (PQQ)-glucose dehydrogenase (GLCDpp), \n",
    "and the reactions for unrealistic AcCoA production DRPA & PAI2T. \n",
    "Knock out of them on top of ATPM does not change the biomass yield on glucose. \n",
    "* Deactivated pyruvate formate lyase (PFL), 2-oxobutanoate formate lyase (OBTFL).\n"
   ]
  },
  {
   "cell_type": "code",
   "execution_count": 5,
   "metadata": {},
   "outputs": [],
   "source": [
    "model = cobra.io.load_json_model(r'..\\0_ecoli_models\\iML1515.json')\n",
    "\n",
    "model.reactions.THD2pp.subtract_metabolites({\"h_p\": -1, \"h_c\": 1})\n",
    "model.reactions.HSDy.bounds = (-1000, 0)"
   ]
  },
  {
   "cell_type": "code",
   "execution_count": 6,
   "metadata": {},
   "outputs": [],
   "source": [
    "KORxn_base = ['POR5', 'GLYCK', 'ATPM', 'GART', 'DRPA', 'PAI2T','GLCDpp']\n",
    "KORxn(model, KORxn_base)"
   ]
  },
  {
   "cell_type": "code",
   "execution_count": 7,
   "metadata": {},
   "outputs": [],
   "source": [
    "# Set medium: CO2 as the sole carbon source, no limitation\n",
    "for rxn in model.exchanges:\n",
    "    if \"C\" in rxn.check_mass_balance(): # knock out all other carbon-related import\n",
    "        rxn.bounds = (0, 0)\n",
    "model.reactions.get_by_id('EX_co2_e').bounds = (-1000, 1000)\n",
    "model.reactions.EX_meoh_e.upper_bound = 1000   # essential for \n",
    "\n",
    "# to avoid S as electron acceptor\n",
    "# model.reactions.get_by_id('EX_h2s_e').bounds = (0,0)\n",
    "# model.reactions.get_by_id('EX_met__L_e').bounds = (0,0)\n",
    "# model.reactions.get_by_id('EX_cys__L_e').bounds = (0,0)\n",
    "\n",
    "model.reactions.get_by_id('EX_fe2_e').bounds = (0,0)  # to avoid Fe as electron acceptor\n",
    "\n",
    "# model.reactions.EX_glc__D_e.lower_bound = 0"
   ]
  },
  {
   "cell_type": "code",
   "execution_count": 8,
   "metadata": {
    "tags": []
   },
   "outputs": [
    {
     "output_type": "stream",
     "name": "stdout",
     "text": "unknown metabolite 'd_eryth1p_c' created\nunknown metabolite 'l_eryth1p_c' created\nunknown metabolite 'd_eryth4p_c' created\n"
    }
   ],
   "source": [
    "model_ = model.copy()\n",
    "model_ = AddRxn(model_, 'NewRxns4Full_DhapAld.csv')"
   ]
  },
  {
   "cell_type": "code",
   "execution_count": 9,
   "metadata": {
    "tags": []
   },
   "outputs": [
    {
     "output_type": "stream",
     "name": "stdout",
     "text": "IN FLUXES          OUT FLUXES    OBJECTIVES\n-----------------  ------------  ----------------------\nmeoh_e  10         h2o_e  16.8   BIOMASS_Ec_i...  0.216\no2_e     5.66      h_e     1.99\nnh4_e    2.34      co2_e   1.12\npi_e     0.209\nso4_e    0.0545\nk_e      0.0422\nfe3_e    0.00347\nmg2_e    0.00188\ncl_e     0.00113\nca2_e    0.00113\ncu2_e    0.000153\nmn2_e    0.000149\nzn2_e    7.37e-05\nni2_e    6.98e-05\n"
    }
   ],
   "source": [
    "# test growth on MeOH\n",
    "with model_ as m:\n",
    "    m.reactions.EX_meoh_e.lower_bound = -10\n",
    "    cobra.flux_analysis.pfba(m)\n",
    "    m.summary()\n",
    "    # flux2file(m,'Biomass','DAHPald_1',)\n"
   ]
  },
  {
   "cell_type": "code",
   "execution_count": 10,
   "metadata": {
    "tags": []
   },
   "outputs": [
    {
     "output_type": "stream",
     "name": "stdout",
     "text": "IN FLUXES          OUT FLUXES    OBJECTIVES\n-----------------  ------------  ----------------------\nmeoh_e  10         h2o_e  16.8   BIOMASS_Ec_i...  0.216\no2_e     5.66      h_e     1.99\nnh4_e    2.34      co2_e   1.12\npi_e     0.209\nso4_e    0.0545\nk_e      0.0422\nfe3_e    0.00347\nmg2_e    0.00188\nca2_e    0.00113\ncl_e     0.00113\ncu2_e    0.000153\nmn2_e    0.000149\nzn2_e    7.37e-05\nni2_e    6.98e-05\n"
    }
   ],
   "source": [
    "# KO DHAPT to block f6p -> dha -> dhap for better interpretation \n",
    "with model_ as m:\n",
    "    m.reactions.DHAPT.knock_out()\n",
    "    m.reactions.EX_meoh_e.lower_bound = -10\n",
    "    cobra.flux_analysis.pfba(m)\n",
    "    m.summary()\n",
    "    # flux2file(m,'Biomass','DAHPald_2',)"
   ]
  },
  {
   "cell_type": "markdown",
   "metadata": {},
   "source": [
    "To check the flux requirement of the pathway for the shunt, fix the bounds for biomass to 1, find the minimal flux via the shunt (like the RuMP shunt paper).  \n",
    "\n",
    "### 1. Fully on the new cycle"
   ]
  },
  {
   "cell_type": "code",
   "execution_count": 27,
   "metadata": {
    "tags": []
   },
   "outputs": [
    {
     "output_type": "stream",
     "name": "stdout",
     "text": "IN FLUXES          OUT FLUXES    OBJECTIVES\n-----------------  ------------  -------------\nmeoh_e  46.2       h2o_e  77.8   DhapAld  46.2\no2_e    26.2       h_e     9.2\nnh4_e   10.8       co2_e   5.2\npi_e     0.965\nso4_e    0.252\nk_e      0.195\nfe3_e    0.0161\nmg2_e    0.00868\ncl_e     0.00521\nca2_e    0.00521\ncu2_e    0.000709\nmn2_e    0.000691\nzn2_e    0.000341\nni2_e    0.000323\n46.243173413043685\n"
    }
   ],
   "source": [
    "model_.reactions.DHAPT.knock_out()\n",
    "\n",
    "with model_ as m:\n",
    "    m.reactions.EX_meoh_e.lower_bound = -1000\n",
    "    KORxn(m,['FALGTHLs','EX_fald_e','EX_fe2_e'])\n",
    "    m.reactions.BIOMASS_Ec_iML1515_core_75p37M.bounds = (1,1)\n",
    "    m.objective = {m.reactions.DhapAld: 1}\n",
    "    m.objective_direction = 'min'\n",
    "    cobra.flux_analysis.pfba(m)\n",
    "    m.summary()\n",
    "    f_cycle = m.reactions.DhapAld.flux\n",
    "    # flux2file(m,'biomass','cycle')"
   ]
  },
  {
   "cell_type": "markdown",
   "metadata": {},
   "source": [
    "### 2. ${\\Delta}$frmRAB ${\\Delta}$tktAB strain:"
   ]
  },
  {
   "cell_type": "code",
   "execution_count": 12,
   "metadata": {
    "tags": []
   },
   "outputs": [
    {
     "output_type": "stream",
     "name": "stdout",
     "text": "IN FLUXES          OUT FLUXES    OBJECTIVES\n-----------------  ------------  ----------------------\no2_e    12.5       h2o_e  32.4   BIOMASS_Ec_i...  0.521\nglyc_e  10         co2_e   8.61\nnh4_e    5.63      h_e     4.8\npi_e     0.503\nso4_e    0.131\nk_e      0.102\nfe3_e    0.00837\nmg2_e    0.00452\nca2_e    0.00271\ncl_e     0.00271\ncu2_e    0.000369\nmn2_e    0.00036\nzn2_e    0.000178\nni2_e    0.000168\n"
    }
   ],
   "source": [
    "# first confirm the tktAB knock out doesn't grow on glycerol\n",
    "with model as m:\n",
    "    m.reactions.EX_glyc_e.lower_bound = -10\n",
    "    m.reactions.DHAPT.knock_out()\n",
    "    m.optimize()\n",
    "    m.summary()\n",
    "    # methanol export is essential"
   ]
  },
  {
   "cell_type": "code",
   "execution_count": 13,
   "metadata": {
    "tags": []
   },
   "outputs": [
    {
     "output_type": "stream",
     "name": "stdout",
     "text": "IN FLUXES           OUT FLUXES    OBJECTIVES\n------------------  ------------  ------------------\n12ppd__R_e       0                BIOMASS_Ec_i...  0\n12ppd__S_e       0\n14glucan_e       0\n15dap_e          0\n23camp_e         0\n23ccmp_e         0\n23cgmp_e         0\n23cump_e         0\n23dappa_e        0\n26dap__M_e       0\n2ddglcn_e        0\n2dglc_e          0\n34dhpac_e        0\n3amp_e           0\n3cmp_e           0\n3gmp_e           0\n3hcinnm_e        0\n3hpp_e           0\n3hpppn_e         0\n3ump_e           0\n4abut_e          0\n4abzglu_e        0\n4hoxpacd_e       0\n5dglcn_e         0\n5mtr_e           0\nLalaDgluMdap...  0\nLalaDgluMdap_e   0\nLalaDglu_e       0\nLalaLglu_e       0\nac_e             0\nacac_e           0\nacald_e          0\nacgal1p_e        0\nacgal_e          0\nacgam1p_e        0\nacgam_e          0\nacmana_e         0\nacmum_e          0\nacnam_e          0\nacser_e          0\nade_e            0\nadn_e            0\nadocbl_e         0\nag_e             0\nagm_e            0\nakg_e            0\nala_B_e          0\nala__D_e         0\nala__L_e         0\nalaala_e         0\nall__D_e         0\nalltn_e          0\namp_e            0\nanhgm_e          0\narab__L_e        0\narbt_e           0\narbtn_e          0\narbtn_fe3_e      0\narg__L_e         0\nascb__L_e        0\nasn__L_e         0\naso3_e           0\nasp__L_e         0\nbtn_e            0\nbut_e            0\nbutso3_e         0\nca2_e            0\ncbi_e            0\ncbl1_e           0\ncd2_e            0\ncellb_e          0\ncgly_e           0\nch4_e            0\nchol_e           0\nchtbs_e          0\ncit_e            0\ncl_e             0\ncm_e             0\ncmp_e            0\nco2_e            0\ncobalt2_e        0\ncpgn_e           0\ncpgn_un_e        0\ncrn__D_e         0\ncrn_e            0\ncs1_e            0\ncsn_e            0\ncu2_e            0\ncu_e             0\ncyan_e           0\ncynt_e           0\ncys__D_e         0\ncys__L_e         0\ncytd_e           0\ndad_2_e          0\ndamp_e           0\ndca_e            0\ndcmp_e           0\ndcyt_e           0\nddca_e           0\ndgmp_e           0\ndgsn_e           0\ndha_e            0\ndhps_e           0\ndimp_e           0\ndin_e            0\ndms_e            0\ndmso_e           0\ndopa_e           0\ndoxrbcn_e        0\ndtmp_e           0\ndump_e           0\nduri_e           0\ndxylnt_e         0\neca4colipa_e     0\nenlipa_e         0\nenter_e          0\netha_e           0\nethso3_e         0\netoh_e           0\nf6p_e            0\nfad_e            0\nfald_e           0\nfe2_e            0\nfe3_e            0\nfe3dcit_e        0\nfe3dhbzs_e       0\nfe3hox_e         0\nfe3hox_un_e      0\nfecrm_e          0\nfecrm_un_e       0\nfeenter_e        0\nfeoxam_e         0\nfeoxam_un_e      0\nfmn_e            0\nfor_e            0\nfru_e            0\nfrulys_e         0\nfruur_e          0\nfuc__L_e         0\nfum_e            0\nfusa_e           0\ng1p_e            0\ng3pc_e           0\ng3pe_e           0\ng3pg_e           0\ng3pi_e           0\ng3ps_e           0\ng6p_e            0\ngal1p_e          0\ngal_bD_e         0\ngal_e            0\ngalct__D_e       0\ngalctn__D_e      0\ngalctn__L_e      0\ngalt_e           0\ngalur_e          0\ngam6p_e          0\ngam_e            0\ngbbtn_e          0\ngdp_e            0\nglc__D_e         0\nglcn_e           0\nglcr_e           0\nglcur1p_e        0\nglcur_e          0\ngln__L_e         0\nglu__L_e         0\ngly_e            0\nglyald_e         0\nglyb_e           0\nglyc2p_e         0\nglyc3p_e         0\nglyc__R_e        0\nglyc_e           0\nglyclt_e         0\ngmp_e            0\ngsn_e            0\ngthox_e          0\ngthrd_e          0\ngtp_e            0\ngua_e            0\nh2_e             0\nh2o2_e           0\nh2o_e            0\nh2s_e            0\nh_e              0\nhacolipa_e       0\nhalipa_e         0\nhdca_e           0\nhdcea_e          0\nhg2_e            0\nhis__L_e         0\nhom__L_e         0\nhxa_e            0\nhxan_e           0\nidon__L_e        0\nile__L_e         0\nimp_e            0\nindole_e         0\ninost_e          0\nins_e            0\nisetac_e         0\nk_e              0\nlac__D_e         0\nlac__L_e         0\nlcts_e           0\nleu__L_e         0\nlipoate_e        0\nlys__L_e         0\nlyx__L_e         0\nmal__D_e         0\nmal__L_e         0\nmalt_e           0\nmalthx_e         0\nmaltpt_e         0\nmalttr_e         0\nmaltttr_e        0\nman6p_e          0\nman_e            0\nmanglyc_e        0\nmelib_e          0\nmeoh_e           0\nmepn_e           0\nmet__D_e         0\nmet__L_e         0\nmetglcur_e       0\nmetsox_R__L_e    0\nmetsox_S__L_e    0\nmg2_e            0\nmincyc_e         0\nminohp_e         0\nmmet_e           0\nmn2_e            0\nmnl_e            0\nmobd_e           0\nmso3_e           0\nmththf_e         0\nn2o_e            0\nna1_e            0\nnac_e            0\nnh4_e            0\nni2_e            0\nnmn_e            0\nno2_e            0\nno3_e            0\nno_e             0\nnovbcn_e         0\no2_e             0\no2s_e            0\nocdca_e          0\nocdcea_e         0\nocta_e           0\norn_e            0\norot_e           0\npacald_e         0\npeamn_e          0\nphe__L_e         0\npheme_e          0\npi_e             0\npnto__R_e        0\nppa_e            0\nppal_e           0\npppn_e           0\nppt_e            0\npro__L_e         0\nprogly_e         0\npsclys_e         0\npser__L_e        0\nptrc_e           0\npydam_e          0\npydx_e           0\npydxn_e          0\npyr_e            0\nquin_e           0\nr5p_e            0\nrfamp_e          0\nrib__D_e         0\nrmn_e            0\nsbt__D_e         0\nsel_e            0\nser__D_e         0\nser__L_e         0\nskm_e            0\nslnt_e           0\nso2_e            0\nso3_e            0\nso4_e            0\nspmd_e           0\nsq_e             0\nsucc_e           0\nsucr_e           0\nsulfac_e         0\ntartr__D_e       0\ntartr__L_e       0\ntaur_e           0\ntcynt_e          0\nthm_e            0\nthr__L_e         0\nthrp_e           0\nthym_e           0\nthymd_e          0\ntma_e            0\ntmao_e           0\ntre_e            0\ntrp__L_e         0\ntsul_e           0\nttdca_e          0\nttdcea_e         0\nttrcyc_e         0\ntungs_e          0\ntym_e            0\ntyr__L_e         0\ntyrp_e           0\nuacgam_e         0\nudpacgal_e       0\nudpg_e           0\nudpgal_e         0\nudpglcur_e       0\nump_e            0\nura_e            0\nurate_e          0\nurea_e           0\nuri_e            0\nval__L_e         0\nxan_e            0\nxmp_e            0\nxtsn_e           0\nxyl__D_e         0\nxylu__L_e        0\nzn2_e            0\n"
    }
   ],
   "source": [
    "with model as m:\n",
    "    m.reactions.EX_glyc_e.lower_bound = -10\n",
    "    m.reactions.DHAPT.knock_out()\n",
    "    KORxn(m,['TKT1','TKT2'])\n",
    "    m.optimize()\n",
    "    m.summary()"
   ]
  },
  {
   "cell_type": "code",
   "execution_count": 33,
   "metadata": {
    "tags": []
   },
   "outputs": [
    {
     "output_type": "stream",
     "name": "stdout",
     "text": "IN FLUXES          OUT FLUXES    OBJECTIVES\n-----------------  ------------  --------------\no2_e    34.8       h2o_e  74.5   DhapAld  0.381\nglyc_e  22.1       co2_e  25.7\nnh4_e   10.8       h_e     9.2\npi_e     0.965\nmeoh_e   0.381\nso4_e    0.252\nk_e      0.195\nfe3_e    0.0161\nmg2_e    0.00868\ncl_e     0.00521\nca2_e    0.00521\ncu2_e    0.000709\nmn2_e    0.000691\nzn2_e    0.000341\nni2_e    0.000323\n\n\nFlux requirment for the shunt:  0.82%\n"
    }
   ],
   "source": [
    "# no growth, then introduce the pathway and methanol\n",
    "with model_ as m:\n",
    "    m.reactions.EX_meoh_e.lower_bound = -1000\n",
    "    m.reactions.EX_glyc_e.lower_bound = -1000     # glycerol as co-substrate\n",
    "    KORxn(m,['FALGTHLs','EX_fald_e','TKT1','TKT2'])\n",
    "    m.reactions.BIOMASS_Ec_iML1515_core_75p37M.bounds = (1,1)\n",
    "    m.objective = {m.reactions.DhapAld: 1}\n",
    "    m.objective_direction = 'min'\n",
    "    cobra.flux_analysis.pfba(m)\n",
    "    m.summary()\n",
    "    # flux2file(m,'biomass','TKT')\n",
    "    \n",
    "    f_tkt = m.reactions.DhapAld.flux\n",
    "    print('\\n')\n",
    "    print(f'Flux requirment for the shunt: {f_tkt/f_cycle *100: .2f}%')"
   ]
  },
  {
   "cell_type": "markdown",
   "metadata": {},
   "source": [
    "### 3. ${\\Delta}$frmRAB ${\\Delta}$fbp ${\\Delta}$glpX strain:"
   ]
  },
  {
   "cell_type": "code",
   "execution_count": 15,
   "metadata": {
    "tags": []
   },
   "outputs": [
    {
     "output_type": "stream",
     "name": "stdout",
     "text": "IN FLUXES           OUT FLUXES    OBJECTIVES\n------------------  ------------  ------------------\n12ppd__R_e       0                BIOMASS_Ec_i...  0\n12ppd__S_e       0\n14glucan_e       0\n15dap_e          0\n23camp_e         0\n23ccmp_e         0\n23cgmp_e         0\n23cump_e         0\n23dappa_e        0\n26dap__M_e       0\n2ddglcn_e        0\n2dglc_e          0\n34dhpac_e        0\n3amp_e           0\n3cmp_e           0\n3gmp_e           0\n3hcinnm_e        0\n3hpp_e           0\n3hpppn_e         0\n3ump_e           0\n4abut_e          0\n4abzglu_e        0\n4hoxpacd_e       0\n5dglcn_e         0\n5mtr_e           0\nLalaDgluMdap...  0\nLalaDgluMdap_e   0\nLalaDglu_e       0\nLalaLglu_e       0\nac_e             0\nacac_e           0\nacald_e          0\nacgal1p_e        0\nacgal_e          0\nacgam1p_e        0\nacgam_e          0\nacmana_e         0\nacmum_e          0\nacnam_e          0\nacser_e          0\nade_e            0\nadn_e            0\nadocbl_e         0\nag_e             0\nagm_e            0\nakg_e            0\nala_B_e          0\nala__D_e         0\nala__L_e         0\nalaala_e         0\nall__D_e         0\nalltn_e          0\namp_e            0\nanhgm_e          0\narab__L_e        0\narbt_e           0\narbtn_e          0\narbtn_fe3_e      0\narg__L_e         0\nascb__L_e        0\nasn__L_e         0\naso3_e           0\nasp__L_e         0\nbtn_e            0\nbut_e            0\nbutso3_e         0\nca2_e            0\ncbi_e            0\ncbl1_e           0\ncd2_e            0\ncellb_e          0\ncgly_e           0\nch4_e            0\nchol_e           0\nchtbs_e          0\ncit_e            0\ncl_e             0\ncm_e             0\ncmp_e            0\nco2_e            0\ncobalt2_e        0\ncpgn_e           0\ncpgn_un_e        0\ncrn__D_e         0\ncrn_e            0\ncs1_e            0\ncsn_e            0\ncu2_e            0\ncu_e             0\ncyan_e           0\ncynt_e           0\ncys__D_e         0\ncys__L_e         0\ncytd_e           0\ndad_2_e          0\ndamp_e           0\ndca_e            0\ndcmp_e           0\ndcyt_e           0\nddca_e           0\ndgmp_e           0\ndgsn_e           0\ndha_e            0\ndhps_e           0\ndimp_e           0\ndin_e            0\ndms_e            0\ndmso_e           0\ndopa_e           0\ndoxrbcn_e        0\ndtmp_e           0\ndump_e           0\nduri_e           0\ndxylnt_e         0\neca4colipa_e     0\nenlipa_e         0\nenter_e          0\netha_e           0\nethso3_e         0\netoh_e           0\nf6p_e            0\nfad_e            0\nfald_e           0\nfe2_e            0\nfe3_e            0\nfe3dcit_e        0\nfe3dhbzs_e       0\nfe3hox_e         0\nfe3hox_un_e      0\nfecrm_e          0\nfecrm_un_e       0\nfeenter_e        0\nfeoxam_e         0\nfeoxam_un_e      0\nfmn_e            0\nfor_e            0\nfru_e            0\nfrulys_e         0\nfruur_e          0\nfuc__L_e         0\nfum_e            0\nfusa_e           0\ng1p_e            0\ng3pc_e           0\ng3pe_e           0\ng3pg_e           0\ng3pi_e           0\ng3ps_e           0\ng6p_e            0\ngal1p_e          0\ngal_bD_e         0\ngal_e            0\ngalct__D_e       0\ngalctn__D_e      0\ngalctn__L_e      0\ngalt_e           0\ngalur_e          0\ngam6p_e          0\ngam_e            0\ngbbtn_e          0\ngdp_e            0\nglc__D_e         0\nglcn_e           0\nglcr_e           0\nglcur1p_e        0\nglcur_e          0\ngln__L_e         0\nglu__L_e         0\ngly_e            0\nglyald_e         0\nglyb_e           0\nglyc2p_e         0\nglyc3p_e         0\nglyc__R_e        0\nglyc_e           0\nglyclt_e         0\ngmp_e            0\ngsn_e            0\ngthox_e          0\ngthrd_e          0\ngtp_e            0\ngua_e            0\nh2_e             0\nh2o2_e           0\nh2o_e            0\nh2s_e            0\nh_e              0\nhacolipa_e       0\nhalipa_e         0\nhdca_e           0\nhdcea_e          0\nhg2_e            0\nhis__L_e         0\nhom__L_e         0\nhxa_e            0\nhxan_e           0\nidon__L_e        0\nile__L_e         0\nimp_e            0\nindole_e         0\ninost_e          0\nins_e            0\nisetac_e         0\nk_e              0\nlac__D_e         0\nlac__L_e         0\nlcts_e           0\nleu__L_e         0\nlipoate_e        0\nlys__L_e         0\nlyx__L_e         0\nmal__D_e         0\nmal__L_e         0\nmalt_e           0\nmalthx_e         0\nmaltpt_e         0\nmalttr_e         0\nmaltttr_e        0\nman6p_e          0\nman_e            0\nmanglyc_e        0\nmelib_e          0\nmeoh_e           0\nmepn_e           0\nmet__D_e         0\nmet__L_e         0\nmetglcur_e       0\nmetsox_R__L_e    0\nmetsox_S__L_e    0\nmg2_e            0\nmincyc_e         0\nminohp_e         0\nmmet_e           0\nmn2_e            0\nmnl_e            0\nmobd_e           0\nmso3_e           0\nmththf_e         0\nn2o_e            0\nna1_e            0\nnac_e            0\nnh4_e            0\nni2_e            0\nnmn_e            0\nno2_e            0\nno3_e            0\nno_e             0\nnovbcn_e         0\no2_e             0\no2s_e            0\nocdca_e          0\nocdcea_e         0\nocta_e           0\norn_e            0\norot_e           0\npacald_e         0\npeamn_e          0\nphe__L_e         0\npheme_e          0\npi_e             0\npnto__R_e        0\nppa_e            0\nppal_e           0\npppn_e           0\nppt_e            0\npro__L_e         0\nprogly_e         0\npsclys_e         0\npser__L_e        0\nptrc_e           0\npydam_e          0\npydx_e           0\npydxn_e          0\npyr_e            0\nquin_e           0\nr5p_e            0\nrfamp_e          0\nrib__D_e         0\nrmn_e            0\nsbt__D_e         0\nsel_e            0\nser__D_e         0\nser__L_e         0\nskm_e            0\nslnt_e           0\nso2_e            0\nso3_e            0\nso4_e            0\nspmd_e           0\nsq_e             0\nsucc_e           0\nsucr_e           0\nsulfac_e         0\ntartr__D_e       0\ntartr__L_e       0\ntaur_e           0\ntcynt_e          0\nthm_e            0\nthr__L_e         0\nthrp_e           0\nthym_e           0\nthymd_e          0\ntma_e            0\ntmao_e           0\ntre_e            0\ntrp__L_e         0\ntsul_e           0\nttdca_e          0\nttdcea_e         0\nttrcyc_e         0\ntungs_e          0\ntym_e            0\ntyr__L_e         0\ntyrp_e           0\nuacgam_e         0\nudpacgal_e       0\nudpg_e           0\nudpgal_e         0\nudpglcur_e       0\nump_e            0\nura_e            0\nurate_e          0\nurea_e           0\nuri_e            0\nval__L_e         0\nxan_e            0\nxmp_e            0\nxtsn_e           0\nxyl__D_e         0\nxylu__L_e        0\nzn2_e            0\n"
    }
   ],
   "source": [
    "# to confirm the fbp glpX knock out doesn't grow on glycerol\n",
    "with model as m:\n",
    "    m.reactions.EX_glyc_e.lower_bound = -10\n",
    "    KORxn(m,['DHAPT','FBP','F6PA'])\n",
    "    m.optimize()\n",
    "    m.summary()"
   ]
  },
  {
   "cell_type": "code",
   "execution_count": 34,
   "metadata": {
    "tags": []
   },
   "outputs": [
    {
     "output_type": "stream",
     "name": "stdout",
     "text": "IN FLUXES          OUT FLUXES    OBJECTIVES\n-----------------  ------------  -------------\no2_e    25.9       h2o_e  65     DhapAld  2.61\nglyc_e  18.6       co2_e  17.4\nnh4_e   10.8       h_e     9.2\nmeoh_e   2.61\npi_e     0.965\nso4_e    0.252\nk_e      0.195\nfe3_e    0.0161\nmg2_e    0.00868\ncl_e     0.00521\nca2_e    0.00521\ncu2_e    0.000709\nmn2_e    0.000691\nzn2_e    0.000341\nni2_e    0.000323\n\n\nFlux requirment for the shunt:  5.65%\n"
    }
   ],
   "source": [
    "with model_ as m:\n",
    "    m.reactions.EX_meoh_e.lower_bound = -1000\n",
    "    m.reactions.EX_glyc_e.lower_bound = -1000     # glycerol as co-substrate\n",
    "    KORxn(m,['FALGTHLs','EX_fald_e','FBP','F6PA'])\n",
    "    m.reactions.BIOMASS_Ec_iML1515_core_75p37M.bounds = (1,1)\n",
    "    m.objective = {m.reactions.DhapAld: 1}\n",
    "    m.objective_direction = 'min'\n",
    "    cobra.flux_analysis.pfba(m)\n",
    "    m.summary()\n",
    "    # flux2file(m,'biomass','FBP')\n",
    "\n",
    "    f_fbp = m.reactions.DhapAld.flux\n",
    "    print('\\n')\n",
    "    print(f'Flux requirment for the shunt: {f_fbp/f_cycle *100: .2f}%')"
   ]
  },
  {
   "cell_type": "markdown",
   "metadata": {},
   "source": [
    "### 4. ${\\Delta}$frmRAB ${\\Delta}$tpiA ${\\Delta}$pgk strain:"
   ]
  },
  {
   "cell_type": "code",
   "execution_count": 17,
   "metadata": {
    "tags": []
   },
   "outputs": [
    {
     "output_type": "stream",
     "name": "stdout",
     "text": "IN FLUXES           OUT FLUXES    OBJECTIVES\n------------------  ------------  ------------------\n12ppd__R_e       0                BIOMASS_Ec_i...  0\n12ppd__S_e       0\n14glucan_e       0\n15dap_e          0\n23camp_e         0\n23ccmp_e         0\n23cgmp_e         0\n23cump_e         0\n23dappa_e        0\n26dap__M_e       0\n2ddglcn_e        0\n2dglc_e          0\n34dhpac_e        0\n3amp_e           0\n3cmp_e           0\n3gmp_e           0\n3hcinnm_e        0\n3hpp_e           0\n3hpppn_e         0\n3ump_e           0\n4abut_e          0\n4abzglu_e        0\n4hoxpacd_e       0\n5dglcn_e         0\n5mtr_e           0\nLalaDgluMdap...  0\nLalaDgluMdap_e   0\nLalaDglu_e       0\nLalaLglu_e       0\nac_e             0\nacac_e           0\nacald_e          0\nacgal1p_e        0\nacgal_e          0\nacgam1p_e        0\nacgam_e          0\nacmana_e         0\nacmum_e          0\nacnam_e          0\nacser_e          0\nade_e            0\nadn_e            0\nadocbl_e         0\nag_e             0\nagm_e            0\nakg_e            0\nala_B_e          0\nala__D_e         0\nala__L_e         0\nalaala_e         0\nall__D_e         0\nalltn_e          0\namp_e            0\nanhgm_e          0\narab__L_e        0\narbt_e           0\narbtn_e          0\narbtn_fe3_e      0\narg__L_e         0\nascb__L_e        0\nasn__L_e         0\naso3_e           0\nasp__L_e         0\nbtn_e            0\nbut_e            0\nbutso3_e         0\nca2_e            0\ncbi_e            0\ncbl1_e           0\ncd2_e            0\ncellb_e          0\ncgly_e           0\nch4_e            0\nchol_e           0\nchtbs_e          0\ncit_e            0\ncl_e             0\ncm_e             0\ncmp_e            0\nco2_e            0\ncobalt2_e        0\ncpgn_e           0\ncpgn_un_e        0\ncrn__D_e         0\ncrn_e            0\ncs1_e            0\ncsn_e            0\ncu2_e            0\ncu_e             0\ncyan_e           0\ncynt_e           0\ncys__D_e         0\ncys__L_e         0\ncytd_e           0\ndad_2_e          0\ndamp_e           0\ndca_e            0\ndcmp_e           0\ndcyt_e           0\nddca_e           0\ndgmp_e           0\ndgsn_e           0\ndha_e            0\ndhps_e           0\ndimp_e           0\ndin_e            0\ndms_e            0\ndmso_e           0\ndopa_e           0\ndoxrbcn_e        0\ndtmp_e           0\ndump_e           0\nduri_e           0\ndxylnt_e         0\neca4colipa_e     0\nenlipa_e         0\nenter_e          0\netha_e           0\nethso3_e         0\netoh_e           0\nf6p_e            0\nfad_e            0\nfald_e           0\nfe2_e            0\nfe3_e            0\nfe3dcit_e        0\nfe3dhbzs_e       0\nfe3hox_e         0\nfe3hox_un_e      0\nfecrm_e          0\nfecrm_un_e       0\nfeenter_e        0\nfeoxam_e         0\nfeoxam_un_e      0\nfmn_e            0\nfor_e            0\nfru_e            0\nfrulys_e         0\nfruur_e          0\nfuc__L_e         0\nfum_e            0\nfusa_e           0\ng1p_e            0\ng3pc_e           0\ng3pe_e           0\ng3pg_e           0\ng3pi_e           0\ng3ps_e           0\ng6p_e            0\ngal1p_e          0\ngal_bD_e         0\ngal_e            0\ngalct__D_e       0\ngalctn__D_e      0\ngalctn__L_e      0\ngalt_e           0\ngalur_e          0\ngam6p_e          0\ngam_e            0\ngbbtn_e          0\ngdp_e            0\nglc__D_e         0\nglcn_e           0\nglcr_e           0\nglcur1p_e        0\nglcur_e          0\ngln__L_e         0\nglu__L_e         0\ngly_e            0\nglyald_e         0\nglyb_e           0\nglyc2p_e         0\nglyc3p_e         0\nglyc__R_e        0\nglyc_e           0\nglyclt_e         0\ngmp_e            0\ngsn_e            0\ngthox_e          0\ngthrd_e          0\ngtp_e            0\ngua_e            0\nh2_e             0\nh2o2_e           0\nh2o_e            0\nh2s_e            0\nh_e              0\nhacolipa_e       0\nhalipa_e         0\nhdca_e           0\nhdcea_e          0\nhg2_e            0\nhis__L_e         0\nhom__L_e         0\nhxa_e            0\nhxan_e           0\nidon__L_e        0\nile__L_e         0\nimp_e            0\nindole_e         0\ninost_e          0\nins_e            0\nisetac_e         0\nk_e              0\nlac__D_e         0\nlac__L_e         0\nlcts_e           0\nleu__L_e         0\nlipoate_e        0\nlys__L_e         0\nlyx__L_e         0\nmal__D_e         0\nmal__L_e         0\nmalt_e           0\nmalthx_e         0\nmaltpt_e         0\nmalttr_e         0\nmaltttr_e        0\nman6p_e          0\nman_e            0\nmanglyc_e        0\nmelib_e          0\nmeoh_e           0\nmepn_e           0\nmet__D_e         0\nmet__L_e         0\nmetglcur_e       0\nmetsox_R__L_e    0\nmetsox_S__L_e    0\nmg2_e            0\nmincyc_e         0\nminohp_e         0\nmmet_e           0\nmn2_e            0\nmnl_e            0\nmobd_e           0\nmso3_e           0\nmththf_e         0\nn2o_e            0\nna1_e            0\nnac_e            0\nnh4_e            0\nni2_e            0\nnmn_e            0\nno2_e            0\nno3_e            0\nno_e             0\nnovbcn_e         0\no2_e             0\no2s_e            0\nocdca_e          0\nocdcea_e         0\nocta_e           0\norn_e            0\norot_e           0\npacald_e         0\npeamn_e          0\nphe__L_e         0\npheme_e          0\npi_e             0\npnto__R_e        0\nppa_e            0\nppal_e           0\npppn_e           0\nppt_e            0\npro__L_e         0\nprogly_e         0\npsclys_e         0\npser__L_e        0\nptrc_e           0\npydam_e          0\npydx_e           0\npydxn_e          0\npyr_e            0\nquin_e           0\nr5p_e            0\nrfamp_e          0\nrib__D_e         0\nrmn_e            0\nsbt__D_e         0\nsel_e            0\nser__D_e         0\nser__L_e         0\nskm_e            0\nslnt_e           0\nso2_e            0\nso3_e            0\nso4_e            0\nspmd_e           0\nsq_e             0\nsucc_e           0\nsucr_e           0\nsulfac_e         0\ntartr__D_e       0\ntartr__L_e       0\ntaur_e           0\ntcynt_e          0\nthm_e            0\nthr__L_e         0\nthrp_e           0\nthym_e           0\nthymd_e          0\ntma_e            0\ntmao_e           0\ntre_e            0\ntrp__L_e         0\ntsul_e           0\nttdca_e          0\nttdcea_e         0\nttrcyc_e         0\ntungs_e          0\ntym_e            0\ntyr__L_e         0\ntyrp_e           0\nuacgam_e         0\nudpacgal_e       0\nudpg_e           0\nudpgal_e         0\nudpglcur_e       0\nump_e            0\nura_e            0\nurate_e          0\nurea_e           0\nuri_e            0\nval__L_e         0\nxan_e            0\nxmp_e            0\nxtsn_e           0\nxyl__D_e         0\nxylu__L_e        0\nzn2_e            0\n"
    }
   ],
   "source": [
    "# to confirm the tpiA pgk knock out doesn't grow on glycerol\n",
    "\n",
    "# first TPI\n",
    "with model as m:\n",
    "    m.reactions.EX_glyc_e.lower_bound = -10\n",
    "    KORxn(m,['DHAPT','F6PA','MGSA','TPI','PGL'])  # TPI deletion: PGL (for PPP and ED)\n",
    "    m.optimize()\n",
    "    m.summary()\n"
   ]
  },
  {
   "cell_type": "code",
   "execution_count": 21,
   "metadata": {
    "tags": []
   },
   "outputs": [
    {
     "output_type": "stream",
     "name": "stdout",
     "text": "IN FLUXES            OUT FLUXES    OBJECTIVES\n-------------------  ------------  ----------------------\no2_e      11.2       h2o_e  17.1   BIOMASS_Ec_i...  0.384\npyr_e     10         co2_e  17\nh_e        6.46\nnh4_e      4.15\nglc__D_e   0.463\npi_e       0.371\nso4_e      0.0968\nk_e        0.075\nfe3_e      0.00617\nmg2_e      0.00334\nca2_e      0.002\ncl_e       0.002\ncu2_e      0.000273\nmn2_e      0.000266\nzn2_e      0.000131\nni2_e      0.000124\n"
    }
   ],
   "source": [
    "# then PGK\n",
    "with model as m:\n",
    "    m.reactions.EX_glc__D_e.lower_bound = -10\n",
    "    m.reactions.EX_pyr_e.lower_bound = -10\n",
    "    KORxn(m,['PGK','PGL','MGSA'])\n",
    "    m.optimize()\n",
    "    m.summary()\n",
    "# only grow when fed both"
   ]
  },
  {
   "cell_type": "code",
   "execution_count": 35,
   "metadata": {
    "tags": []
   },
   "outputs": [
    {
     "output_type": "stream",
     "name": "stdout",
     "text": "IN FLUXES          OUT FLUXES    OBJECTIVES\n-----------------  ------------  -------------\no2_e    52.2       co2_e  69.9   DhapAld  1.39\npyr_e   34.6       h2o_e  65.1\nh_e     25.4\nnh4_e   10.8\nglyc_e   1.94\nmeoh_e   1.39\npi_e     0.965\nso4_e    0.252\nk_e      0.195\nfe3_e    0.0161\nmg2_e    0.00868\ncl_e     0.00521\nca2_e    0.00521\ncu2_e    0.000709\nmn2_e    0.000691\nzn2_e    0.000341\nni2_e    0.000323\n\n\nFlux requirment for the shunt:  3.02%\n"
    }
   ],
   "source": [
    "with model_ as m:\n",
    "    m.reactions.EX_meoh_e.lower_bound = -1000\n",
    "    m.reactions.EX_glyc_e.lower_bound = -1000\n",
    "    m.reactions.EX_pyr_e.lower_bound = -1000\n",
    "    KORxn(m,['FALGTHLs','EX_fald_e','DHAPT','F6PA','MGSA','TPI','PGL','PGK'])\n",
    "    m.reactions.BIOMASS_Ec_iML1515_core_75p37M.bounds = (1,1)\n",
    "    m.objective = {m.reactions.DhapAld: 1}\n",
    "    m.objective_direction = 'min'\n",
    "    cobra.flux_analysis.pfba(m)\n",
    "    m.summary()\n",
    "    # flux2file(m, 'biomass','pgk')\n",
    "\n",
    "    f_pgk = m.reactions.DhapAld.flux\n",
    "    print('\\n')\n",
    "    print(f'Flux requirment for the shunt: {f_pgk/f_cycle *100: .2f}%')"
   ]
  },
  {
   "cell_type": "code",
   "execution_count": 36,
   "metadata": {
    "tags": []
   },
   "outputs": [
    {
     "output_type": "stream",
     "name": "stderr",
     "text": "[NbConvertApp] Converting notebook DhapAld_FBA.ipynb to html\n[NbConvertApp] Writing 342985 bytes to DhapAld_FBA.html\n"
    }
   ],
   "source": [
    "!jupyter nbconvert --to html DhapAld_FBA.ipynb"
   ]
  }
 ],
 "metadata": {
  "file_extension": ".py",
  "kernelspec": {
   "display_name": "Python 3",
   "language": "python",
   "name": "python3"
  },
  "language_info": {
   "codemirror_mode": {
    "name": "ipython",
    "version": 3
   },
   "file_extension": ".py",
   "mimetype": "text/x-python",
   "name": "python",
   "nbconvert_exporter": "python",
   "pygments_lexer": "ipython3",
   "version": "3.7.3-final"
  },
  "mimetype": "text/x-python",
  "name": "python",
  "npconvert_exporter": "python",
  "pygments_lexer": "ipython3",
  "version": 3
 },
 "nbformat": 4,
 "nbformat_minor": 2
}